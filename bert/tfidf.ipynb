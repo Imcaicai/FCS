{
 "cells": [
  {
   "cell_type": "code",
   "execution_count": 2,
   "metadata": {},
   "outputs": [],
   "source": [
    "import jieba\n",
    "import pandas as pd\n",
    "from gensim.models import word2vec"
   ]
  },
  {
   "cell_type": "code",
   "execution_count": 3,
   "metadata": {},
   "outputs": [
    {
     "data": {
      "text/html": [
       "<div>\n",
       "<style scoped>\n",
       "    .dataframe tbody tr th:only-of-type {\n",
       "        vertical-align: middle;\n",
       "    }\n",
       "\n",
       "    .dataframe tbody tr th {\n",
       "        vertical-align: top;\n",
       "    }\n",
       "\n",
       "    .dataframe thead th {\n",
       "        text-align: right;\n",
       "    }\n",
       "</style>\n",
       "<table border=\"1\" class=\"dataframe\">\n",
       "  <thead>\n",
       "    <tr style=\"text-align: right;\">\n",
       "      <th></th>\n",
       "      <th>url</th>\n",
       "      <th>label</th>\n",
       "      <th>text</th>\n",
       "    </tr>\n",
       "  </thead>\n",
       "  <tbody>\n",
       "    <tr>\n",
       "      <th>0</th>\n",
       "      <td>www.jnzb110.com</td>\n",
       "      <td>2</td>\n",
       "      <td>欧美野外打野战A片视频YZYHUST国产丰满成熟女人性满足视频YZYHUST免费A级毛片出奶...</td>\n",
       "    </tr>\n",
       "    <tr>\n",
       "      <th>1</th>\n",
       "      <td>www.5891.nz</td>\n",
       "      <td>2</td>\n",
       "      <td>5891.nz This domain name has been registered w...</td>\n",
       "    </tr>\n",
       "    <tr>\n",
       "      <th>2</th>\n",
       "      <td>gcnkw.com</td>\n",
       "      <td>2</td>\n",
       "      <td>This page has movedYZYHUST Click here to go th...</td>\n",
       "    </tr>\n",
       "    <tr>\n",
       "      <th>3</th>\n",
       "      <td>www.chinashenlu.com</td>\n",
       "      <td>2</td>\n",
       "      <td>欧美高清免费特黄A片不卡YZYHUST免费欧洲毛片A级视频无风险YZYHUSTFREE性VI...</td>\n",
       "    </tr>\n",
       "    <tr>\n",
       "      <th>4</th>\n",
       "      <td>2950t.com</td>\n",
       "      <td>2</td>\n",
       "      <td>亚洲日韩大胸美女影院YZYHUST国色天香电影在线看YZYHUST偷窥盗摄vod65视频36...</td>\n",
       "    </tr>\n",
       "  </tbody>\n",
       "</table>\n",
       "</div>"
      ],
      "text/plain": [
       "                   url  label  \\\n",
       "0      www.jnzb110.com      2   \n",
       "1          www.5891.nz      2   \n",
       "2            gcnkw.com      2   \n",
       "3  www.chinashenlu.com      2   \n",
       "4            2950t.com      2   \n",
       "\n",
       "                                                text  \n",
       "0  欧美野外打野战A片视频YZYHUST国产丰满成熟女人性满足视频YZYHUST免费A级毛片出奶...  \n",
       "1  5891.nz This domain name has been registered w...  \n",
       "2  This page has movedYZYHUST Click here to go th...  \n",
       "3  欧美高清免费特黄A片不卡YZYHUST免费欧洲毛片A级视频无风险YZYHUSTFREE性VI...  \n",
       "4  亚洲日韩大胸美女影院YZYHUST国色天香电影在线看YZYHUST偷窥盗摄vod65视频36...  "
      ]
     },
     "execution_count": 3,
     "metadata": {},
     "output_type": "execute_result"
    }
   ],
   "source": [
    "f=pd.read_csv('./url/pure_abnormal/pure_abnormal.csv')\n",
    "f.head()"
   ]
  },
  {
   "cell_type": "code",
   "execution_count": 10,
   "metadata": {},
   "outputs": [
    {
     "name": "stderr",
     "output_type": "stream",
     "text": [
      "100%|██████████| 7676/7676 [01:18<00:00, 97.75it/s] \n"
     ]
    }
   ],
   "source": [
    "from tqdm import tqdm\n",
    "cut_words_list=[]\n",
    "for i in tqdm(f['text']):\n",
    "    i=str(i)\n",
    "    i=i.replace('YZYHUST',',')\n",
    "    cut_words=[k for k in jieba.cut(i)]\n",
    "    cut_words_list.append(cut_words)\n"
   ]
  },
  {
   "cell_type": "code",
   "execution_count": 13,
   "metadata": {},
   "outputs": [],
   "source": [
    "from gensim.models import Word2Vec\n",
    "w2v=Word2Vec(cut_words_list,vector_size=100,min_count=3)"
   ]
  },
  {
   "cell_type": "code",
   "execution_count": 19,
   "metadata": {},
   "outputs": [],
   "source": [
    "import numpy as np\n",
    "def get_vector(words,model):\n",
    "    cnt=0\n",
    "    vec=np.zeros(model.layer1_size)\n",
    "    for word in words:\n",
    "        if word in model.wv.key_to_index:\n",
    "            vec+=model.wv[word]\n",
    "            cnt+=1\n",
    "    if(cnt==0):\n",
    "        return vec\n",
    "    return vec/cnt"
   ]
  },
  {
   "cell_type": "code",
   "execution_count": 24,
   "metadata": {},
   "outputs": [
    {
     "name": "stderr",
     "output_type": "stream",
     "text": [
      "100%|██████████| 6140/6140 [00:37<00:00, 163.30it/s]\n"
     ]
    },
    {
     "data": {
      "text/plain": [
       "(6140, 100)"
      ]
     },
     "execution_count": 24,
     "metadata": {},
     "output_type": "execute_result"
    }
   ],
   "source": [
    "f_train=pd.read_csv('./url/pure_abnormal/pure_abnormal_train.csv')\n",
    "vec_list=[]\n",
    "for sentence in tqdm(f_train['text']):\n",
    "    sentence=str(sentence)\n",
    "    sentence=sentence.replace('YZYHUST',',')\n",
    "    vec=get_vector(sentence,w2v)\n",
    "    vec_list.append(vec)\n",
    "vec_list=np.array(vec_list)\n",
    "vec_list.shape"
   ]
  },
  {
   "cell_type": "code",
   "execution_count": 25,
   "metadata": {},
   "outputs": [
    {
     "name": "stderr",
     "output_type": "stream",
     "text": [
      "/Users/YZY/opt/anaconda3/envs/pytorch_cpu/lib/python3.10/site-packages/tqdm/auto.py:22: TqdmWarning: IProgress not found. Please update jupyter and ipywidgets. See https://ipywidgets.readthedocs.io/en/stable/user_install.html\n",
      "  from .autonotebook import tqdm as notebook_tqdm\n"
     ]
    }
   ],
   "source": [
    "import torch\n",
    "torch.save(torch.tensor(vec_list),'./train_vec.pt')"
   ]
  },
  {
   "cell_type": "code",
   "execution_count": 28,
   "metadata": {},
   "outputs": [
    {
     "name": "stderr",
     "output_type": "stream",
     "text": [
      "100%|██████████| 1536/1536 [00:10<00:00, 144.13it/s]\n"
     ]
    },
    {
     "data": {
      "text/plain": [
       "(1536, 100)"
      ]
     },
     "execution_count": 28,
     "metadata": {},
     "output_type": "execute_result"
    }
   ],
   "source": [
    "f_train=pd.read_csv('./url/pure_abnormal/pure_abnormal_test.csv')\n",
    "vec_list=[]\n",
    "for sentence in tqdm(f_train['text']):\n",
    "    sentence=str(sentence)\n",
    "    sentence=sentence.replace('YZYHUST',',')\n",
    "    vec=get_vector(sentence,w2v)\n",
    "    vec_list.append(vec)\n",
    "vec_list=np.array(vec_list)\n",
    "vec_list.shape"
   ]
  },
  {
   "cell_type": "code",
   "execution_count": null,
   "metadata": {},
   "outputs": [],
   "source": [
    "torch.save(torch.tensor(vec_list),'./test_vec.pt')"
   ]
  }
 ],
 "metadata": {
  "kernelspec": {
   "display_name": "pytorch_cpu",
   "language": "python",
   "name": "python3"
  },
  "language_info": {
   "codemirror_mode": {
    "name": "ipython",
    "version": 3
   },
   "file_extension": ".py",
   "mimetype": "text/x-python",
   "name": "python",
   "nbconvert_exporter": "python",
   "pygments_lexer": "ipython3",
   "version": "3.10.4"
  },
  "orig_nbformat": 4
 },
 "nbformat": 4,
 "nbformat_minor": 2
}
