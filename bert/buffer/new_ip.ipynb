{
 "cells": [
  {
   "attachments": {},
   "cell_type": "markdown",
   "metadata": {},
   "source": [
    "# 添加IP特征"
   ]
  },
  {
   "cell_type": "code",
   "execution_count": 1,
   "metadata": {},
   "outputs": [
    {
     "name": "stderr",
     "output_type": "stream",
     "text": [
      "/Users/YZY/opt/anaconda3/envs/pytorch_cpu/lib/python3.10/site-packages/tqdm/auto.py:22: TqdmWarning: IProgress not found. Please update jupyter and ipywidgets. See https://ipywidgets.readthedocs.io/en/stable/user_install.html\n",
      "  from .autonotebook import tqdm as notebook_tqdm\n"
     ]
    }
   ],
   "source": [
    "from torch.utils.data import DataLoader\n",
    "import os\n",
    "import numpy as np\n",
    "from sklearn.linear_model import LogisticRegression\n",
    "from sklearn.svm import SVC"
   ]
  },
  {
   "cell_type": "code",
   "execution_count": 4,
   "metadata": {},
   "outputs": [
    {
     "data": {
      "text/plain": [
       "(3859, 778)"
      ]
     },
     "execution_count": 4,
     "metadata": {},
     "output_type": "execute_result"
    }
   ],
   "source": [
    "from mlp import mlp\n",
    "import torch\n",
    "import pandas as pd\n",
    "# precess training data\n",
    "train_ft=torch.load('./url/ip/features_train.pt')\n",
    "url_ft=pd.read_csv('./url/ip/feature_train.csv')\n",
    "ip_ft=pd.read_csv('./url/ip/ip_train.csv')\n",
    "ip_ft=ip_ft.iloc[:,5:].to_numpy()\n",
    "url_ft=url_ft.iloc[:,:7].to_numpy()\n",
    "url_ft.shape\n",
    "train_ft=np.concatenate([train_ft.numpy(),url_ft,ip_ft],axis=-1)\n",
    "train_label=pd.read_csv('./url/ip/train_label.csv')\n",
    "train_label.value_counts()\n",
    "train_ft.shape"
   ]
  },
  {
   "cell_type": "code",
   "execution_count": 25,
   "metadata": {},
   "outputs": [
    {
     "data": {
      "text/plain": [
       "label\n",
       "2        3616\n",
       "9         149\n",
       "3          37\n",
       "11         28\n",
       "10         17\n",
       "1           5\n",
       "7           5\n",
       "5           1\n",
       "12          1\n",
       "dtype: int64"
      ]
     },
     "execution_count": 25,
     "metadata": {},
     "output_type": "execute_result"
    }
   ],
   "source": [
    "idx=(train_label['label']==2)|(train_label['label']==4)|(train_label['label']==6)|(train_label['label']==8)\n",
    "train_label.loc[idx,'label']=2\n",
    "train_label.value_counts()"
   ]
  },
  {
   "cell_type": "code",
   "execution_count": 7,
   "metadata": {},
   "outputs": [],
   "source": [
    "def eval_on_test(net,features,labels):\n",
    "    net.eval()\n",
    "    global highest_record\n",
    "    length=len(labels)\n",
    "    labels=DataLoader(labels,batch_size=64)\n",
    "    features=DataLoader(features,batch_size=64)\n",
    "    sum=0\n",
    "    for feature,label in zip(features,labels):\n",
    "        output=net(feature)\n",
    "        predict=torch.argmax(output,dim=-1)\n",
    "        sum+=(predict==label).sum()\n",
    "    if sum>highest_record:\n",
    "        print(f'new record:{sum}')\n",
    "        highest_record=sum\n",
    "        torch.save(net.state_dict(),'./classifier_model/best_mlp_ip.pkl')\n",
    "    print(f\"accuracy on test :{sum}/{length}={sum/length}\")"
   ]
  },
  {
   "cell_type": "code",
   "execution_count": 8,
   "metadata": {},
   "outputs": [],
   "source": [
    "def train(lr,batch_size,epoches,features_data,labels_data,test_features,test_labels,over_write=False):\n",
    "    # load data\n",
    "    labels=DataLoader(labels_data,batch_size=batch_size)\n",
    "    features=DataLoader(features_data,batch_size=batch_size)\n",
    "    # features_data=text_features\n",
    "    print(features_data.shape)\n",
    "    # !!!net and solver\n",
    "    net=mlp(in_features=features_data.shape[-1])\n",
    "\n",
    "    if os.path.exists('./classifier_model/mlp_ip.pkl') and not over_write:\n",
    "        state_dict=torch.load('./classifier_model/mlp_ip.pkl')\n",
    "        net.load_state_dict(state_dict=state_dict)\n",
    "    criterion=torch.nn.CrossEntropyLoss()\n",
    "    optimizer=torch.optim.Adam(net.parameters(),lr=lr)\n",
    "    # train\n",
    "    loss_list=[]\n",
    "    for e in range(epoches):\n",
    "        epoch_loss=[]\n",
    "        for label,feature in zip(labels,features):\n",
    "            net.train()\n",
    "            output=net(feature)\n",
    "            loss=criterion(output,label)\n",
    "            optimizer.zero_grad()\n",
    "            loss.backward()\n",
    "            optimizer.step()\n",
    "            epoch_loss.append(loss.item())\n",
    "        eval_on_test(net,features=test_features,labels=test_labels)\n",
    "        mean_loss=np.array(epoch_loss).mean()\n",
    "        loss_list.append(mean_loss)\n",
    "        print(f'epoch {e+1} loss: {mean_loss}')\n",
    "    loss_log=pd.DataFrame(loss_list,columns=['loss'])\n",
    "    if os.path.exists('./log/loss_ip.csv') and not over_write:\n",
    "        f=pd.read_csv('./log/loss_ip.csv')\n",
    "        loss_log=pd.concat([f,loss_log],axis=0)\n",
    "    loss_log.to_csv('./log/loss_ip.csv',index=None)\n",
    "    torch.save(net.state_dict(),'./classifier_model/mlp_ip.pkl')\n"
   ]
  },
  {
   "cell_type": "code",
   "execution_count": 26,
   "metadata": {},
   "outputs": [
    {
     "data": {
      "text/plain": [
       "(868, 778)"
      ]
     },
     "execution_count": 26,
     "metadata": {},
     "output_type": "execute_result"
    }
   ],
   "source": [
    "test_ft=torch.load('./url/ip/features_test.pt')\n",
    "test_url_ft=pd.read_csv('./url/ip/feature_test.csv')\n",
    "test_ip_ft=pd.read_csv('./url/ip/ip_test.csv')\n",
    "test_url_ft=test_url_ft.iloc[:,:7].to_numpy()\n",
    "test_ip_ft=test_ip_ft.iloc[:,5:].to_numpy()\n",
    "test_ft=np.concatenate([test_ft.numpy(),test_url_ft,test_ip_ft],axis=-1)\n",
    "test_label=pd.read_csv('./url/ip/test_label.csv')\n",
    "test_label.value_counts()\n",
    "test_ft.shape"
   ]
  },
  {
   "cell_type": "code",
   "execution_count": 27,
   "metadata": {},
   "outputs": [
    {
     "name": "stdout",
     "output_type": "stream",
     "text": [
      "868\n"
     ]
    },
    {
     "data": {
      "text/plain": [
       "label\n",
       "2        812\n",
       "9         40\n",
       "3          7\n",
       "1          2\n",
       "7          2\n",
       "10         2\n",
       "12         2\n",
       "11         1\n",
       "dtype: int64"
      ]
     },
     "execution_count": 27,
     "metadata": {},
     "output_type": "execute_result"
    }
   ],
   "source": [
    "idx=(test_label['label']==2)|(test_label['label']==4)|(test_label['label']==6)|(test_label['label']==8)\n",
    "test_label.loc[idx,'label']=2\n",
    "print(len(test_label))\n",
    "# print(1175/1536)\n",
    "test_label.value_counts()"
   ]
  },
  {
   "cell_type": "code",
   "execution_count": 28,
   "metadata": {},
   "outputs": [],
   "source": [
    "highest_record=0"
   ]
  },
  {
   "cell_type": "code",
   "execution_count": 38,
   "metadata": {},
   "outputs": [
    {
     "name": "stdout",
     "output_type": "stream",
     "text": [
      "torch.Size([3859, 778])\n",
      "accuracy on test :861/868=0.9919354915618896\n",
      "epoch 1 loss: 0.01879811823970113\n",
      "accuracy on test :861/868=0.9919354915618896\n",
      "epoch 2 loss: 0.01652438685285098\n",
      "accuracy on test :861/868=0.9919354915618896\n",
      "epoch 3 loss: 0.01587820266367322\n",
      "accuracy on test :861/868=0.9919354915618896\n",
      "epoch 4 loss: 0.015420131338032661\n",
      "accuracy on test :861/868=0.9919354915618896\n",
      "epoch 5 loss: 0.01650776054091032\n",
      "accuracy on test :861/868=0.9919354915618896\n",
      "epoch 6 loss: 0.015027419557832931\n",
      "accuracy on test :861/868=0.9919354915618896\n",
      "epoch 7 loss: 0.015008684606787141\n",
      "accuracy on test :861/868=0.9919354915618896\n",
      "epoch 8 loss: 0.01559399669166257\n",
      "accuracy on test :861/868=0.9919354915618896\n",
      "epoch 9 loss: 0.015288566052498755\n",
      "accuracy on test :861/868=0.9919354915618896\n",
      "epoch 10 loss: 0.014377231726014971\n"
     ]
    }
   ],
   "source": [
    "train(lr=5e-6,\n",
    "      batch_size=32,\n",
    "      epoches=10,\n",
    "      features_data=torch.tensor(train_ft,dtype=torch.float32),\n",
    "      labels_data=train_label['label'],\n",
    "      test_features=torch.tensor(test_ft,dtype=torch.float32),\n",
    "      test_labels=test_label['label'],\n",
    "      over_write=False)"
   ]
  },
  {
   "attachments": {},
   "cell_type": "markdown",
   "metadata": {},
   "source": [
    "### 训练LR，把2468分成26、48两组"
   ]
  },
  {
   "cell_type": "code",
   "execution_count": 39,
   "metadata": {},
   "outputs": [],
   "source": [
    "from sklearn import metrics\n",
    "import pickle\n",
    "import joblib"
   ]
  },
  {
   "cell_type": "code",
   "execution_count": 49,
   "metadata": {},
   "outputs": [
    {
     "data": {
      "text/plain": [
       "label\n",
       "2        1905\n",
       "6         903\n",
       "4         580\n",
       "8         228\n",
       "dtype: int64"
      ]
     },
     "execution_count": 49,
     "metadata": {},
     "output_type": "execute_result"
    }
   ],
   "source": [
    "#prepare data\n",
    "train_ft=torch.load('./url/ip/features_train.pt')\n",
    "url_ft=pd.read_csv('./url/ip/feature_train.csv')\n",
    "ip_ft=pd.read_csv('./url/ip/ip_train.csv')\n",
    "ip_ft=ip_ft.iloc[:,5:].to_numpy()\n",
    "url_ft=url_ft.iloc[:,:7].to_numpy()\n",
    "train_ft=np.concatenate([train_ft.numpy(),url_ft,ip_ft],axis=-1)\n",
    "train_label=pd.read_csv('./url/ip/train_label.csv')\n",
    "idx=(train_label['label']==2)|(train_label['label']==4)|(train_label['label']==6)|(train_label['label']==8)\n",
    "train_label=train_label[idx]\n",
    "train_label.value_counts()"
   ]
  },
  {
   "cell_type": "code",
   "execution_count": 50,
   "metadata": {},
   "outputs": [
    {
     "data": {
      "text/plain": [
       "label\n",
       "2        2808\n",
       "4         808\n",
       "dtype: int64"
      ]
     },
     "execution_count": 50,
     "metadata": {},
     "output_type": "execute_result"
    }
   ],
   "source": [
    "train_ft=train_ft[idx]\n",
    "idx1=(train_label['label']==2)|(train_label['label']==6)\n",
    "train_label[idx1]=2\n",
    "idx2=(train_label['label']==4)|(train_label['label']==8)\n",
    "train_label[idx2]=4\n",
    "train_label.value_counts()"
   ]
  },
  {
   "cell_type": "code",
   "execution_count": 51,
   "metadata": {},
   "outputs": [],
   "source": [
    "test_ft=torch.load('./url/ip/features_test.pt')\n",
    "test_url_ft=pd.read_csv('./url/ip/feature_test.csv')\n",
    "test_ip_ft=pd.read_csv('./url/ip/ip_test.csv')\n",
    "test_url_ft=test_url_ft.iloc[:,:7].to_numpy()\n",
    "test_ip_ft=test_ip_ft.iloc[:,5:].to_numpy()\n",
    "test_ft=np.concatenate([test_ft.numpy(),test_url_ft,test_ip_ft],axis=-1)\n",
    "test_label=pd.read_csv('./url/ip/test_label.csv')\n",
    "idx=(test_label['label']==2)|(test_label['label']==4)|(test_label['label']==6)|(test_label['label']==8)\n",
    "test_ft=test_ft[idx]\n",
    "test_label=test_label[idx]"
   ]
  },
  {
   "cell_type": "code",
   "execution_count": 52,
   "metadata": {},
   "outputs": [],
   "source": [
    "idx1=(test_label['label']==2)|(test_label['label']==6)\n",
    "idx2=(test_label['label']==4)|(test_label['label']==8)\n",
    "test_label[idx1]=2\n",
    "test_label[idx2]=4"
   ]
  },
  {
   "cell_type": "code",
   "execution_count": 53,
   "metadata": {},
   "outputs": [
    {
     "name": "stderr",
     "output_type": "stream",
     "text": [
      "/Users/YZY/opt/anaconda3/envs/pytorch_cpu/lib/python3.10/site-packages/sklearn/utils/validation.py:1143: DataConversionWarning: A column-vector y was passed when a 1d array was expected. Please change the shape of y to (n_samples, ), for example using ravel().\n",
      "  y = column_or_1d(y, warn=True)\n"
     ]
    },
    {
     "data": {
      "text/plain": [
       "1.0"
      ]
     },
     "execution_count": 53,
     "metadata": {},
     "output_type": "execute_result"
    }
   ],
   "source": [
    "LR24=LogisticRegression(max_iter=30000)\n",
    "# LR24=SVC(max_iter=30000,kernel='rbf')\n",
    "LR24.fit(train_ft,train_label)\n",
    "LR24.score(test_ft,test_label)"
   ]
  },
  {
   "cell_type": "code",
   "execution_count": 54,
   "metadata": {},
   "outputs": [
    {
     "name": "stdout",
     "output_type": "stream",
     "text": [
      "              precision    recall  f1-score   support\n",
      "\n",
      "           2       1.00      1.00      1.00       633\n",
      "           4       1.00      1.00      1.00       179\n",
      "\n",
      "    accuracy                           1.00       812\n",
      "   macro avg       1.00      1.00      1.00       812\n",
      "weighted avg       1.00      1.00      1.00       812\n",
      "\n"
     ]
    }
   ],
   "source": [
    "pred=LR24.predict(test_ft)\n",
    "print(metrics.classification_report(test_label,pred))"
   ]
  },
  {
   "cell_type": "code",
   "execution_count": 55,
   "metadata": {},
   "outputs": [
    {
     "data": {
      "text/plain": [
       "['./classifier_model/LR24_ip.pkl']"
      ]
     },
     "execution_count": 55,
     "metadata": {},
     "output_type": "execute_result"
    }
   ],
   "source": [
    "#save model\n",
    "joblib.dump(LR24,'./classifier_model/LR24_ip.pkl')"
   ]
  },
  {
   "attachments": {},
   "cell_type": "markdown",
   "metadata": {},
   "source": [
    "### 训练LR，把26分开"
   ]
  },
  {
   "cell_type": "code",
   "execution_count": 66,
   "metadata": {},
   "outputs": [
    {
     "data": {
      "text/plain": [
       "label\n",
       "2        1905\n",
       "6         903\n",
       "dtype: int64"
      ]
     },
     "execution_count": 66,
     "metadata": {},
     "output_type": "execute_result"
    }
   ],
   "source": [
    "train_ft=torch.load('./url/ip/features_train.pt')\n",
    "url_ft=pd.read_csv('./url/ip/feature_train.csv')\n",
    "ip_ft=pd.read_csv('./url/ip/ip_train.csv')\n",
    "ip_ft=ip_ft.iloc[:,5:].to_numpy()\n",
    "url_ft=url_ft.iloc[:,:7].to_numpy()\n",
    "train_ft=np.concatenate([train_ft.numpy(),url_ft,ip_ft],axis=-1)\n",
    "train_label=pd.read_csv('./url/ip/train_label.csv')\n",
    "idx=(train_label['label']==2)|(train_label['label']==6)\n",
    "train_label=train_label[idx]\n",
    "train_ft=train_ft[idx]\n",
    "train_label.value_counts()"
   ]
  },
  {
   "cell_type": "code",
   "execution_count": 67,
   "metadata": {},
   "outputs": [
    {
     "data": {
      "text/plain": [
       "(2808, 778)"
      ]
     },
     "execution_count": 67,
     "metadata": {},
     "output_type": "execute_result"
    }
   ],
   "source": [
    "test_ft=torch.load('./url/ip/features_test.pt')\n",
    "test_url_ft=pd.read_csv('./url/ip/feature_test.csv')\n",
    "test_ip_ft=pd.read_csv('./url/ip/ip_test.csv')\n",
    "test_url_ft=test_url_ft.iloc[:,:7].to_numpy()\n",
    "test_ip_ft=test_ip_ft.iloc[:,5:].to_numpy()\n",
    "test_ft=np.concatenate([test_ft.numpy(),test_url_ft,test_ip_ft],axis=-1)\n",
    "test_label=pd.read_csv('./url/ip/test_label.csv')\n",
    "idx=(test_label['label']==2)|(test_label['label']==6)\n",
    "test_ft=test_ft[idx]\n",
    "test_label=test_label[idx]\n",
    "train_ft.shape"
   ]
  },
  {
   "cell_type": "code",
   "execution_count": 68,
   "metadata": {},
   "outputs": [
    {
     "name": "stderr",
     "output_type": "stream",
     "text": [
      "/Users/YZY/opt/anaconda3/envs/pytorch_cpu/lib/python3.10/site-packages/sklearn/utils/validation.py:1143: DataConversionWarning: A column-vector y was passed when a 1d array was expected. Please change the shape of y to (n_samples, ), for example using ravel().\n",
      "  y = column_or_1d(y, warn=True)\n"
     ]
    },
    {
     "data": {
      "text/plain": [
       "1.0"
      ]
     },
     "execution_count": 68,
     "metadata": {},
     "output_type": "execute_result"
    }
   ],
   "source": [
    "LR26=SVC(max_iter=100000,kernel='rbf')\n",
    "# LR26=LogisticRegression(max_iter=30000)\n",
    "LR26.fit(train_ft,train_label)\n",
    "LR26.score(test_ft,test_label)"
   ]
  },
  {
   "cell_type": "code",
   "execution_count": 87,
   "metadata": {},
   "outputs": [
    {
     "name": "stdout",
     "output_type": "stream",
     "text": [
      "[2 2 2 6 2 2 2 2 2 6 6 6 2 2 6 6 2 2 2 2 2 2 2 2 6 6 6 2 2 2 6 2 2 2 2 2 2\n",
      " 6 2 6 2 2 2 6 6 2 6 2 6 2 6 2 2 6 2 2 2 2 2 2 6 2 2 6 2 6 6 6 6 2 6 2 6 6\n",
      " 2 6 2 2 2 2 2 2 6 6 2 2 6 2 2 2 2 6 2 2 2 6 2 6 2 6 2 2 2 2 2 2 2 6 2 2 2\n",
      " 2 2 6 2 6 2 6 2 2 6 2 2 2 6 6 2 2 2 2 2 2 2 2 6 2 2 2 2 2 6 6 6 2 2 6 2 6\n",
      " 2 2 2 6 6 6 2 2 6 2 2 2 2 2 2 2 2 2 2 2 2 2 2 2 6 6 2 6 2 2 2 6 2 2 6 6 2\n",
      " 2 2 2 6 2 2 6 6 6 2 2 2 2 2 2 6 6 2 2 2 2 2 2 6 6 6 2 2 2 2 2 2 2 6 2 2 2\n",
      " 6 2 6 2 2 2 2 2 6 6 2 2 2 2 2 2 2 2 2 2 2 2 2 6 2 2 6 2 6 6 2 6 6 2 2 6 2\n",
      " 2 2 2 2 2 2 2 2 2 2 2 6 6 2 6 2 2 2 6 6 2 2 2 6 6 2 2 6 6 2 2 2 6 2 2 2 2\n",
      " 2 2 2 2 2 2 2 6 6 2 6 6 2 2 2 6 6 2 2 2 2 2 6 2 6 6 2 2 2 2 2 2 2 2 2 6 2\n",
      " 2 2 2 2 2 6 2 2 6 6 6 6 2 6 6 6 6 2 6 2 2 6 2 6 2 2 6 6 2 2 2 2 2 2 2 2 2\n",
      " 2 6 6 2 2 2 2 2 2 2 6 2 2 6 2 2 6 6 2 2 2 2 2 2 2 2 6 2 2 2 2 2 6 2 6 2 6\n",
      " 6 2 6 2 6 2 6 2 6 2 2 2 2 2 2 2 2 2 2 2 2 2 6 2 6 2 2 2 2 2 6 6 2 2 2 6 2\n",
      " 6 6 2 2 2 2 2 2 6 2 2 2 6 2 2 6 2 6 2 2 2 6 6 2 2 2 2 2 2 2 2 2 2 2 6 2 2\n",
      " 2 6 6 2 6 6 2 6 2 2 2 2 6 6 2 6 6 2 6 6 6 2 2 2 2 2 2 6 2 2 2 6 2 2 2 2 2\n",
      " 6 2 2 2 2 2 6 6 6 6 2 2 2 2 2 6 6 6 2 2 2 6 6 2 2 2 2 6 2 2 6 6 2 2 6 2 6\n",
      " 2 2 2 2 2 2 6 2 2 6 2 6 2 2 2 2 6 2 6 6 6 6 2 6 6 2 6 6 2 2 6 2 2 6 2 2 6\n",
      " 2 2 6 6 6 2 2 2 6 2 2 2 6 6 2 2 2 6 6 2 6 6 6 2 2 2 2 2 2 6 6 2 2 2 2 6 6\n",
      " 2 6 6 6]\n",
      "              precision    recall  f1-score   support\n",
      "\n",
      "           2       1.00      1.00      1.00       429\n",
      "           6       1.00      1.00      1.00       204\n",
      "\n",
      "    accuracy                           1.00       633\n",
      "   macro avg       1.00      1.00      1.00       633\n",
      "weighted avg       1.00      1.00      1.00       633\n",
      "\n"
     ]
    }
   ],
   "source": [
    "pred=LR26.predict(test_ft)\n",
    "print(pred)\n",
    "print(metrics.classification_report(test_label,pred))"
   ]
  },
  {
   "cell_type": "code",
   "execution_count": 70,
   "metadata": {},
   "outputs": [
    {
     "data": {
      "text/plain": [
       "['./classifier_model/LR26_ip.pkl']"
      ]
     },
     "execution_count": 70,
     "metadata": {},
     "output_type": "execute_result"
    }
   ],
   "source": [
    "joblib.dump(LR26,'./classifier_model/LR26_ip.pkl')"
   ]
  },
  {
   "attachments": {},
   "cell_type": "markdown",
   "metadata": {},
   "source": [
    "### 训练LR，把48分开"
   ]
  },
  {
   "cell_type": "code",
   "execution_count": 104,
   "metadata": {},
   "outputs": [
    {
     "data": {
      "text/plain": [
       "label\n",
       "4        580\n",
       "8        228\n",
       "dtype: int64"
      ]
     },
     "execution_count": 104,
     "metadata": {},
     "output_type": "execute_result"
    }
   ],
   "source": [
    "train_ft=torch.load('./url/ip/features_train.pt')\n",
    "url_ft=pd.read_csv('./url/ip/feature_train.csv')\n",
    "ip_ft=pd.read_csv('./url/ip/ip_train.csv')\n",
    "ip_ft=ip_ft.iloc[:,5:].to_numpy()\n",
    "url_ft=url_ft.iloc[:,:7].to_numpy()\n",
    "train_ft=np.concatenate([train_ft.numpy(),url_ft,ip_ft],axis=-1)\n",
    "# train_ft=np.concatenate([url_ft,ip_ft],axis=-1)\n",
    "train_label=pd.read_csv('./url/ip/train_label.csv')\n",
    "idx=(train_label['label']==4)|(train_label['label']==8)\n",
    "train_label=train_label[idx]\n",
    "train_ft=train_ft[idx]\n",
    "train_label.value_counts()"
   ]
  },
  {
   "cell_type": "code",
   "execution_count": 105,
   "metadata": {},
   "outputs": [
    {
     "data": {
      "text/plain": [
       "(808, 778)"
      ]
     },
     "execution_count": 105,
     "metadata": {},
     "output_type": "execute_result"
    }
   ],
   "source": [
    "test_ft=torch.load('./url/ip/features_test.pt')\n",
    "test_url_ft=pd.read_csv('./url/ip/feature_test.csv')\n",
    "test_ip_ft=pd.read_csv('./url/ip/ip_test.csv')\n",
    "test_url_ft=test_url_ft.iloc[:,:7].to_numpy()\n",
    "test_ip_ft=test_ip_ft.iloc[:,5:].to_numpy()\n",
    "test_ft=np.concatenate([test_ft.numpy(),test_url_ft,test_ip_ft],axis=-1)\n",
    "# test_ft=np.concatenate([test_url_ft,test_ip_ft],axis=-1)\n",
    "test_label=pd.read_csv('./url/ip/test_label.csv')\n",
    "idx=(test_label['label']==4)|(test_label['label']==8)\n",
    "test_ft=test_ft[idx]\n",
    "test_label=test_label[idx]\n",
    "train_ft.shape"
   ]
  },
  {
   "cell_type": "code",
   "execution_count": 106,
   "metadata": {},
   "outputs": [
    {
     "name": "stderr",
     "output_type": "stream",
     "text": [
      "/Users/YZY/opt/anaconda3/envs/pytorch_cpu/lib/python3.10/site-packages/sklearn/utils/validation.py:1143: DataConversionWarning: A column-vector y was passed when a 1d array was expected. Please change the shape of y to (n_samples, ), for example using ravel().\n",
      "  y = column_or_1d(y, warn=True)\n"
     ]
    },
    {
     "data": {
      "text/plain": [
       "1.0"
      ]
     },
     "execution_count": 106,
     "metadata": {},
     "output_type": "execute_result"
    }
   ],
   "source": [
    "# LR48=SVC(max_iter=10000,kernel='rbf')\n",
    "LR48=LogisticRegression(max_iter=30000)\n",
    "LR48.fit(train_ft,train_label)\n",
    "LR48.score(test_ft,test_label)"
   ]
  },
  {
   "cell_type": "code",
   "execution_count": 107,
   "metadata": {},
   "outputs": [
    {
     "name": "stdout",
     "output_type": "stream",
     "text": [
      "[8 4 8 8 4 8 8 4 4 4 4 4 4 4 4 8 4 4 4 4 8 4 4 4 8 4 8 8 8 8 8 4 4 4 4 4 4\n",
      " 4 4 4 4 4 4 4 4 4 4 4 4 4 4 4 4 4 4 4 4 8 8 4 8 8 4 4 4 8 4 4 4 4 4 8 4 8\n",
      " 4 4 4 4 4 4 4 4 4 4 4 4 8 4 4 8 4 8 4 4 8 4 4 8 8 4 4 8 4 8 4 8 4 4 4 4 8\n",
      " 4 4 4 4 4 4 4 4 8 8 4 4 8 8 4 8 8 4 4 4 4 4 8 4 8 8 4 4 4 4 8 8 4 8 8 8 8\n",
      " 8 8 4 8 4 8 4 4 4 4 4 4 4 4 4 4 4 8 4 8 4 4 4 8 4 8 4 4 8 4 4]\n",
      "              precision    recall  f1-score   support\n",
      "\n",
      "           4       1.00      1.00      1.00       125\n",
      "           8       1.00      1.00      1.00        54\n",
      "\n",
      "    accuracy                           1.00       179\n",
      "   macro avg       1.00      1.00      1.00       179\n",
      "weighted avg       1.00      1.00      1.00       179\n",
      "\n"
     ]
    }
   ],
   "source": [
    "pred=LR48.predict(test_ft)\n",
    "print(pred)\n",
    "print(metrics.classification_report(test_label,pred))"
   ]
  },
  {
   "cell_type": "code",
   "execution_count": 92,
   "metadata": {},
   "outputs": [
    {
     "data": {
      "text/plain": [
       "['./classifier_model/LR48_ip.pkl']"
      ]
     },
     "execution_count": 92,
     "metadata": {},
     "output_type": "execute_result"
    }
   ],
   "source": [
    "joblib.dump(LR48,'./classifier_model/LR48_ip.pkl')"
   ]
  },
  {
   "attachments": {},
   "cell_type": "markdown",
   "metadata": {},
   "source": [
    "### 建立整体层次结构"
   ]
  },
  {
   "cell_type": "code",
   "execution_count": 5,
   "metadata": {},
   "outputs": [],
   "source": [
    "class hierarchy_cls():\n",
    "    def __init__(self,use_ip=False) -> None:\n",
    "        if use_ip==False:\n",
    "            self.mlp=mlp(in_features=775)\n",
    "            st=torch.load('./classifier_model/best_mlp.pkl')\n",
    "            self.mlp.load_state_dict(st)\n",
    "            self.LR24=joblib.load('./classifier_model/LR24.pkl')\n",
    "            self.LR26=joblib.load('./classifier_model/LR26.pkl')\n",
    "            self.LR48=joblib.load('./classifier_model/LR48.pkl')\n",
    "        else:\n",
    "            self.mlp=mlp(in_features=778)\n",
    "            st=torch.load('./classifier_model/best_mlp_ip.pkl')\n",
    "            self.mlp.load_state_dict(st)\n",
    "            self.LR24=joblib.load('./classifier_model/LR24_ip.pkl')\n",
    "            self.LR26=joblib.load('./classifier_model/LR26_ip.pkl')\n",
    "            self.LR48=joblib.load('./classifier_model/LR48_ip.pkl')\n",
    "    def predict(self,x):\n",
    "        output=first_division=(torch.argmax(self.mlp(x),dim=-1)).numpy()\n",
    "        idx_gp2=first_division==2\n",
    "        # print(x.shape)\n",
    "        features_2=x[idx_gp2]\n",
    "\n",
    "        second_division=self.LR24.predict(features_2)\n",
    "        # print(pd.DataFrame(second_division,columns=['0'])['0'].value_counts())\n",
    "        idx_gp26=second_division==2\n",
    "        idx_gp48=second_division==4\n",
    "        ft_26=features_2[idx_gp26]\n",
    "        ft_48=features_2[idx_gp48]\n",
    "\n",
    "        pred_26=self.LR26.predict(ft_26)\n",
    "        # print(pred_26)\n",
    "        pred_48=self.LR48.predict(ft_48)\n",
    "        # print(pd.DataFrame(output,columns=['0'])['0'].value_counts())\n",
    "        gp2=output[idx_gp2]\n",
    "        gp2[idx_gp48]=pred_48\n",
    "        gp2[idx_gp26]=pred_26\n",
    "        output[idx_gp2]=gp2\n",
    "        # print(pd.DataFrame(output,columns=['0'])['0'].value_counts())\n",
    "        return output\n"
   ]
  },
  {
   "cell_type": "code",
   "execution_count": 11,
   "metadata": {},
   "outputs": [
    {
     "name": "stdout",
     "output_type": "stream",
     "text": [
      "torch.Size([868, 768])\n",
      "(868, 7)\n",
      "(868, 3)\n",
      "(868, 778)\n"
     ]
    }
   ],
   "source": [
    "import joblib\n",
    "cls=hierarchy_cls(use_ip=True)\n",
    "test_ft=torch.load('./url/ip/features_test.pt')\n",
    "print(test_ft.shape)\n",
    "test_url_ft=pd.read_csv('./url/ip/feature_test.csv')\n",
    "test_url_ft=test_url_ft.iloc[:,:7].to_numpy()\n",
    "print(test_url_ft.shape)\n",
    "test_ip_ft=pd.read_csv('./url/ip/ip_test.csv')\n",
    "test_ip_ft=test_ip_ft.iloc[:,5:].to_numpy()\n",
    "print(test_ip_ft.shape)\n",
    "test_ft=np.concatenate([test_ft.numpy(),test_url_ft,test_ip_ft],axis=-1)\n",
    "print(test_ft.shape)\n",
    "final_predict=cls.predict(torch.tensor(test_ft,dtype=torch.float32))"
   ]
  },
  {
   "attachments": {},
   "cell_type": "markdown",
   "metadata": {},
   "source": [
    "### 绘制混淆矩阵"
   ]
  },
  {
   "cell_type": "code",
   "execution_count": 12,
   "metadata": {},
   "outputs": [],
   "source": [
    "import matplotlib.pyplot as plt\n",
    "def draw_confusion_matrix(label,pred):\n",
    "    import seaborn as sns\n",
    "    from sklearn.metrics import confusion_matrix\n",
    "    c=confusion_matrix(label, pred)\n",
    "    labels=list(set(label)|set(pred))\n",
    "    print(labels)\n",
    "    sns.heatmap(data=c,annot=True,fmt='g',xticklabels=labels,yticklabels=labels)\n",
    "    plt.savefig('./img/new_confusion_matrix.png',dpi=720)"
   ]
  },
  {
   "cell_type": "code",
   "execution_count": 19,
   "metadata": {},
   "outputs": [],
   "source": [
    "ana=pd.DataFrame(final_predict,columns=['label'])\n",
    "test_ip_ft=pd.read_csv('./url/ip/ip_test.csv')\n",
    "text=test_ip_ft['text']\n",
    "text=[i[:100] for i in text]\n",
    "text=pd.DataFrame(text,columns=['text'])\n",
    "val=pd.concat([ana,text],axis=1)\n",
    "val.to_csv('./url/ip/validation.csv',index=None)"
   ]
  },
  {
   "cell_type": "code",
   "execution_count": 14,
   "metadata": {},
   "outputs": [
    {
     "name": "stdout",
     "output_type": "stream",
     "text": [
      "861/868=0.9919354838709677\n",
      "[1, 2, 3, 4, 6, 7, 8, 9, 10, 11, 12]\n"
     ]
    },
    {
     "data": {
      "image/png": "[encoded data removed]",
      "text/plain": [
       "<Figure size 640x480 with 2 Axes>"
      ]
     },
     "metadata": {},
     "output_type": "display_data"
    }
   ],
   "source": [
    "test_label=pd.read_csv('./url/ip/test_label.csv')\n",
    "right=(test_label['label']==final_predict).sum()\n",
    "length=len(final_predict)\n",
    "print(f'{right}/{length}={right/length}')\n",
    "draw_confusion_matrix(test_label['label'].to_numpy(),final_predict)"
   ]
  }
 ],
 "metadata": {
  "kernelspec": {
   "display_name": "pytorch_cpu",
   "language": "python",
   "name": "python3"
  },
  "language_info": {
   "codemirror_mode": {
    "name": "ipython",
    "version": 3
   },
   "file_extension": ".py",
   "mimetype": "text/x-python",
   "name": "python",
   "nbconvert_exporter": "python",
   "pygments_lexer": "ipython3",
   "version": "3.10.4"
  },
  "orig_nbformat": 4
 },
 "nbformat": 4,
 "nbformat_minor": 2
}
