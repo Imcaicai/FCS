{
 "cells": [
  {
   "attachments": {},
   "cell_type": "markdown",
   "metadata": {},
   "source": [
    "## 训练MLP，把2468从13类中分离出来"
   ]
  },
  {
   "cell_type": "code",
   "execution_count": 3,
   "metadata": {},
   "outputs": [
    {
     "name": "stderr",
     "output_type": "stream",
     "text": [
      "/Users/YZY/opt/anaconda3/envs/pytorch_cpu/lib/python3.10/site-packages/tqdm/auto.py:22: TqdmWarning: IProgress not found. Please update jupyter and ipywidgets. See https://ipywidgets.readthedocs.io/en/stable/user_install.html\n",
      "  from .autonotebook import tqdm as notebook_tqdm\n"
     ]
    }
   ],
   "source": [
    "from torch.utils.data import DataLoader\n",
    "import os\n",
    "import numpy as np\n",
    "from sklearn.linear_model import LogisticRegression\n",
    "from sklearn.svm import SVC"
   ]
  },
  {
   "cell_type": "code",
   "execution_count": 4,
   "metadata": {},
   "outputs": [
    {
     "data": {
      "text/plain": [
       "label\n",
       "2        2406\n",
       "6        1099\n",
       "4         886\n",
       "10        786\n",
       "11        424\n",
       "8         291\n",
       "9         180\n",
       "3          52\n",
       "1           7\n",
       "7           6\n",
       "5           2\n",
       "12          1\n",
       "dtype: int64"
      ]
     },
     "execution_count": 4,
     "metadata": {},
     "output_type": "execute_result"
    }
   ],
   "source": [
    "from mlp import mlp\n",
    "import torch\n",
    "import pandas as pd\n",
    "# precess training data\n",
    "train_ft=torch.load('./features/features.pt')\n",
    "url_ft=pd.read_csv('url_feature_train.csv')\n",
    "url_ft=url_ft.iloc[:,:7].to_numpy()\n",
    "train_ft=np.concatenate([train_ft.numpy(),url_ft],axis=-1)\n",
    "train_label=pd.read_csv('./features/features_labels.csv')\n",
    "train_label.value_counts()"
   ]
  },
  {
   "cell_type": "code",
   "execution_count": 223,
   "metadata": {},
   "outputs": [
    {
     "data": {
      "text/plain": [
       "label\n",
       "2        4682\n",
       "10        786\n",
       "11        424\n",
       "9         180\n",
       "3          52\n",
       "1           7\n",
       "7           6\n",
       "5           2\n",
       "12          1\n",
       "dtype: int64"
      ]
     },
     "execution_count": 223,
     "metadata": {},
     "output_type": "execute_result"
    }
   ],
   "source": [
    "idx=(train_label['label']==2)|(train_label['label']==4)|(train_label['label']==6)|(train_label['label']==8)\n",
    "train_label.loc[idx,'label']=2\n",
    "train_label.value_counts()"
   ]
  },
  {
   "cell_type": "code",
   "execution_count": 224,
   "metadata": {},
   "outputs": [],
   "source": [
    "def eval_on_test(net,features,labels):\n",
    "    net.eval()\n",
    "    global highest_record\n",
    "    length=len(labels)\n",
    "    labels=DataLoader(labels,batch_size=64)\n",
    "    features=DataLoader(features,batch_size=64)\n",
    "    sum=0\n",
    "    for feature,label in zip(features,labels):\n",
    "        output=net(feature)\n",
    "        predict=torch.argmax(output,dim=-1)\n",
    "        sum+=(predict==label).sum()\n",
    "    if sum>highest_record:\n",
    "        print(f'new record:{sum}')\n",
    "        highest_record=sum\n",
    "        torch.save(net.state_dict(),'./classifier_model/best_mlp.pkl')\n",
    "    print(f\"accuracy on test :{sum}/{length}={sum/length}\")"
   ]
  },
  {
   "cell_type": "code",
   "execution_count": 225,
   "metadata": {},
   "outputs": [],
   "source": [
    "def train(lr,batch_size,epoches,features_data,labels_data,test_features,test_labels,over_write=False):\n",
    "    # load data\n",
    "    labels=DataLoader(labels_data,batch_size=batch_size)\n",
    "    features=DataLoader(features_data,batch_size=batch_size)\n",
    "    # features_data=text_features\n",
    "    print(features_data.shape)\n",
    "    # !!!net and solver\n",
    "    net=mlp(in_features=features_data.shape[-1])\n",
    "\n",
    "    if os.path.exists('./classifier_model/mlp.pkl') and not over_write:\n",
    "        state_dict=torch.load('./classifier_model/mlp.pkl')\n",
    "        net.load_state_dict(state_dict=state_dict)\n",
    "    criterion=torch.nn.CrossEntropyLoss()\n",
    "    optimizer=torch.optim.Adam(net.parameters(),lr=lr)\n",
    "    # train\n",
    "    loss_list=[]\n",
    "    for e in range(epoches):\n",
    "        epoch_loss=[]\n",
    "        for label,feature in zip(labels,features):\n",
    "            net.train()\n",
    "            output=net(feature)\n",
    "            loss=criterion(output,label)\n",
    "            optimizer.zero_grad()\n",
    "            loss.backward()\n",
    "            optimizer.step()\n",
    "            epoch_loss.append(loss.item())\n",
    "        eval_on_test(net,features=test_features,labels=test_labels)\n",
    "        mean_loss=np.array(epoch_loss).mean()\n",
    "        loss_list.append(mean_loss)\n",
    "        print(f'epoch {e+1} loss: {mean_loss}')\n",
    "    loss_log=pd.DataFrame(loss_list,columns=['loss'])\n",
    "    if os.path.exists('./log/loss.csv') and not over_write:\n",
    "        f=pd.read_csv('./log/loss.csv')\n",
    "        loss_log=pd.concat([f,loss_log],axis=0)\n",
    "    loss_log.to_csv('./log/loss.csv',index=None)\n",
    "    torch.save(net.state_dict(),'./classifier_model/mlp.pkl')\n"
   ]
  },
  {
   "cell_type": "code",
   "execution_count": 226,
   "metadata": {},
   "outputs": [
    {
     "data": {
      "text/plain": [
       "label\n",
       "2        594\n",
       "6        274\n",
       "4        234\n",
       "10       193\n",
       "11        97\n",
       "8         73\n",
       "9         54\n",
       "3         10\n",
       "12         3\n",
       "1          2\n",
       "7          2\n",
       "dtype: int64"
      ]
     },
     "execution_count": 226,
     "metadata": {},
     "output_type": "execute_result"
    }
   ],
   "source": [
    "test_ft=torch.load('./features/features_test.pt')\n",
    "test_url_ft=pd.read_csv('url_feature_test.csv')\n",
    "test_url_ft=test_url_ft.iloc[:,:7].to_numpy()\n",
    "test_ft=np.concatenate([test_ft.numpy(),test_url_ft],axis=-1)\n",
    "test_label=pd.read_csv('./features/features_labels_test.csv')\n",
    "test_label.value_counts()"
   ]
  },
  {
   "cell_type": "code",
   "execution_count": 227,
   "metadata": {},
   "outputs": [
    {
     "name": "stdout",
     "output_type": "stream",
     "text": [
      "1536\n",
      "0.7649739583333334\n"
     ]
    },
    {
     "data": {
      "text/plain": [
       "label\n",
       "2        1175\n",
       "10        193\n",
       "11         97\n",
       "9          54\n",
       "3          10\n",
       "12          3\n",
       "1           2\n",
       "7           2\n",
       "dtype: int64"
      ]
     },
     "execution_count": 227,
     "metadata": {},
     "output_type": "execute_result"
    }
   ],
   "source": [
    "idx=(test_label['label']==2)|(test_label['label']==4)|(test_label['label']==6)|(test_label['label']==8)\n",
    "test_label.loc[idx,'label']=2\n",
    "print(len(test_label))\n",
    "print(1175/1536)\n",
    "test_label.value_counts()"
   ]
  },
  {
   "cell_type": "code",
   "execution_count": 217,
   "metadata": {},
   "outputs": [
    {
     "data": {
      "text/plain": [
       "tensor(1277)"
      ]
     },
     "execution_count": 217,
     "metadata": {},
     "output_type": "execute_result"
    }
   ],
   "source": [
    "highest_record"
   ]
  },
  {
   "cell_type": "code",
   "execution_count": 216,
   "metadata": {},
   "outputs": [
    {
     "name": "stdout",
     "output_type": "stream",
     "text": [
      "torch.Size([6140, 775])\n",
      "accuracy on test :1272/1536=0.828125\n",
      "epoch 1 loss: 0.2066579519159859\n",
      "accuracy on test :1274/1536=0.8294270634651184\n",
      "epoch 2 loss: 0.21087311134518436\n",
      "accuracy on test :1276/1536=0.8307291865348816\n",
      "epoch 3 loss: 0.21245287061901763\n",
      "accuracy on test :1275/1536=0.830078125\n",
      "epoch 4 loss: 0.2065952047899676\n",
      "accuracy on test :1275/1536=0.830078125\n",
      "epoch 5 loss: 0.20509792405452268\n",
      "accuracy on test :1276/1536=0.8307291865348816\n",
      "epoch 6 loss: 0.2042933967410742\n",
      "accuracy on test :1276/1536=0.8307291865348816\n",
      "epoch 7 loss: 0.20769229179131798\n",
      "accuracy on test :1276/1536=0.8307291865348816\n",
      "epoch 8 loss: 0.20397130278676437\n",
      "accuracy on test :1277/1536=0.8313801884651184\n",
      "epoch 9 loss: 0.20351721829501912\n",
      "accuracy on test :1277/1536=0.8313801884651184\n",
      "epoch 10 loss: 0.2062163016332003\n"
     ]
    }
   ],
   "source": [
    "train(lr=1e-5,\n",
    "      batch_size=32,\n",
    "      epoches=10,\n",
    "      features_data=torch.tensor(train_ft,dtype=torch.float32),\n",
    "      labels_data=train_label['label'],\n",
    "      test_features=torch.tensor(test_ft,dtype=torch.float32),\n",
    "      test_labels=test_label['label'],\n",
    "      over_write=False)"
   ]
  },
  {
   "attachments": {},
   "cell_type": "markdown",
   "metadata": {},
   "source": [
    "### 训练LR，把2468分成24、68两组"
   ]
  },
  {
   "cell_type": "code",
   "execution_count": 8,
   "metadata": {},
   "outputs": [],
   "source": [
    "from sklearn import metrics\n",
    "import pickle\n",
    "import joblib"
   ]
  },
  {
   "cell_type": "code",
   "execution_count": 229,
   "metadata": {},
   "outputs": [
    {
     "data": {
      "text/plain": [
       "label\n",
       "2        2406\n",
       "6        1099\n",
       "4         886\n",
       "8         291\n",
       "dtype: int64"
      ]
     },
     "execution_count": 229,
     "metadata": {},
     "output_type": "execute_result"
    }
   ],
   "source": [
    "#prepare data\n",
    "train_ft=torch.load('./features/features.pt')\n",
    "url_ft=pd.read_csv('url_feature_train.csv')\n",
    "url_ft=url_ft.iloc[:,:7].to_numpy()\n",
    "train_ft=np.concatenate([train_ft.numpy(),url_ft],axis=-1)\n",
    "train_label=pd.read_csv('./features/features_labels.csv')\n",
    "train_label.value_counts()\n",
    "idx=(train_label['label']==2)|(train_label['label']==4)|(train_label['label']==6)|(train_label['label']==8)\n",
    "train_label=train_label[idx]\n",
    "train_label.value_counts()"
   ]
  },
  {
   "cell_type": "code",
   "execution_count": 230,
   "metadata": {},
   "outputs": [
    {
     "data": {
      "text/plain": [
       "label\n",
       "2        3505\n",
       "4        1177\n",
       "dtype: int64"
      ]
     },
     "execution_count": 230,
     "metadata": {},
     "output_type": "execute_result"
    }
   ],
   "source": [
    "train_ft=train_ft[idx]\n",
    "idx1=(train_label['label']==2)|(train_label['label']==6)\n",
    "train_label[idx1]=2\n",
    "idx2=(train_label['label']==4)|(train_label['label']==8)\n",
    "train_label[idx2]=4\n",
    "train_label.value_counts()"
   ]
  },
  {
   "cell_type": "code",
   "execution_count": 231,
   "metadata": {},
   "outputs": [],
   "source": [
    "test_ft=torch.load('./features/features_test.pt')\n",
    "test_url_ft=pd.read_csv('url_feature_test.csv')\n",
    "test_url_ft=test_url_ft.iloc[:,:7].to_numpy()\n",
    "test_ft=np.concatenate([test_ft.numpy(),test_url_ft],axis=-1)\n",
    "test_label=pd.read_csv('./features/features_labels_test.csv')\n",
    "idx=(test_label['label']==2)|(test_label['label']==4)|(test_label['label']==6)|(test_label['label']==8)\n",
    "test_ft=test_ft[idx]\n",
    "test_label=test_label[idx]"
   ]
  },
  {
   "cell_type": "code",
   "execution_count": 232,
   "metadata": {},
   "outputs": [],
   "source": [
    "idx1=(test_label['label']==2)|(test_label['label']==6)\n",
    "idx2=(test_label['label']==4)|(test_label['label']==8)\n",
    "test_label[idx1]=2\n",
    "test_label[idx2]=4"
   ]
  },
  {
   "cell_type": "code",
   "execution_count": 241,
   "metadata": {},
   "outputs": [
    {
     "name": "stderr",
     "output_type": "stream",
     "text": [
      "/Users/YZY/opt/anaconda3/envs/pytorch_cpu/lib/python3.10/site-packages/sklearn/utils/validation.py:1143: DataConversionWarning: A column-vector y was passed when a 1d array was expected. Please change the shape of y to (n_samples, ), for example using ravel().\n",
      "  y = column_or_1d(y, warn=True)\n"
     ]
    },
    {
     "data": {
      "text/plain": [
       "0.9438297872340425"
      ]
     },
     "execution_count": 241,
     "metadata": {},
     "output_type": "execute_result"
    }
   ],
   "source": [
    "LR24=LogisticRegression(max_iter=30000)\n",
    "# LR24=SVC(max_iter=30000,kernel='rbf')\n",
    "LR24.fit(train_ft,train_label)\n",
    "LR24.score(test_ft,test_label)"
   ]
  },
  {
   "cell_type": "code",
   "execution_count": 242,
   "metadata": {},
   "outputs": [
    {
     "name": "stdout",
     "output_type": "stream",
     "text": [
      "              precision    recall  f1-score   support\n",
      "\n",
      "           2       0.96      0.97      0.96       868\n",
      "           4       0.90      0.88      0.89       307\n",
      "\n",
      "    accuracy                           0.94      1175\n",
      "   macro avg       0.93      0.92      0.93      1175\n",
      "weighted avg       0.94      0.94      0.94      1175\n",
      "\n"
     ]
    }
   ],
   "source": [
    "pred=LR24.predict(test_ft)\n",
    "print(metrics.classification_report(test_label,pred))"
   ]
  },
  {
   "cell_type": "code",
   "execution_count": 243,
   "metadata": {},
   "outputs": [
    {
     "data": {
      "text/plain": [
       "['./classifier_model/LR24.pkl']"
      ]
     },
     "execution_count": 243,
     "metadata": {},
     "output_type": "execute_result"
    }
   ],
   "source": [
    "#save model\n",
    "joblib.dump(LR24,'./classifier_model/LR24.pkl')"
   ]
  },
  {
   "attachments": {},
   "cell_type": "markdown",
   "metadata": {},
   "source": [
    "### 训练LR，把26分开"
   ]
  },
  {
   "cell_type": "code",
   "execution_count": 244,
   "metadata": {},
   "outputs": [
    {
     "data": {
      "text/plain": [
       "label\n",
       "2        2406\n",
       "6        1099\n",
       "dtype: int64"
      ]
     },
     "execution_count": 244,
     "metadata": {},
     "output_type": "execute_result"
    }
   ],
   "source": [
    "train_ft=torch.load('./features/features.pt')\n",
    "url_ft=pd.read_csv('url_feature_train.csv')\n",
    "url_ft=url_ft.iloc[:,:7].to_numpy()\n",
    "train_ft=np.concatenate([train_ft.numpy(),url_ft],axis=-1)\n",
    "train_label=pd.read_csv('./features/features_labels.csv')\n",
    "idx=(train_label['label']==2)|(train_label['label']==6)\n",
    "train_label=train_label[idx]\n",
    "train_ft=train_ft[idx]\n",
    "train_label.value_counts()"
   ]
  },
  {
   "cell_type": "code",
   "execution_count": 245,
   "metadata": {},
   "outputs": [],
   "source": [
    "test_ft=torch.load('./features/features_test.pt')\n",
    "test_url_ft=pd.read_csv('url_feature_test.csv')\n",
    "test_url_ft=test_url_ft.iloc[:,:7].to_numpy()\n",
    "test_ft=np.concatenate([test_ft.numpy(),test_url_ft],axis=-1)\n",
    "test_label=pd.read_csv('./features/features_labels_test.csv')\n",
    "idx=(test_label['label']==2)|(test_label['label']==6)\n",
    "test_ft=test_ft[idx]\n",
    "test_label=test_label[idx]"
   ]
  },
  {
   "cell_type": "code",
   "execution_count": 254,
   "metadata": {},
   "outputs": [
    {
     "name": "stderr",
     "output_type": "stream",
     "text": [
      "/Users/YZY/opt/anaconda3/envs/pytorch_cpu/lib/python3.10/site-packages/sklearn/utils/validation.py:1143: DataConversionWarning: A column-vector y was passed when a 1d array was expected. Please change the shape of y to (n_samples, ), for example using ravel().\n",
      "  y = column_or_1d(y, warn=True)\n"
     ]
    },
    {
     "data": {
      "text/plain": [
       "0.8582949308755761"
      ]
     },
     "execution_count": 254,
     "metadata": {},
     "output_type": "execute_result"
    }
   ],
   "source": [
    "LR26=SVC(max_iter=100000,kernel='rbf')\n",
    "# LR26=LogisticRegression(max_iter=30000)\n",
    "LR26.fit(train_ft,train_label)\n",
    "LR26.score(test_ft,test_label)"
   ]
  },
  {
   "cell_type": "code",
   "execution_count": 255,
   "metadata": {},
   "outputs": [
    {
     "name": "stdout",
     "output_type": "stream",
     "text": [
      "              precision    recall  f1-score   support\n",
      "\n",
      "           2       0.87      0.93      0.90       594\n",
      "           6       0.82      0.70      0.76       274\n",
      "\n",
      "    accuracy                           0.86       868\n",
      "   macro avg       0.85      0.82      0.83       868\n",
      "weighted avg       0.86      0.86      0.85       868\n",
      "\n"
     ]
    }
   ],
   "source": [
    "pred=LR26.predict(test_ft)\n",
    "print(metrics.classification_report(test_label,pred))"
   ]
  },
  {
   "cell_type": "code",
   "execution_count": 256,
   "metadata": {},
   "outputs": [
    {
     "data": {
      "text/plain": [
       "['./classifier_model/LR26.pkl']"
      ]
     },
     "execution_count": 256,
     "metadata": {},
     "output_type": "execute_result"
    }
   ],
   "source": [
    "joblib.dump(LR26,'./classifier_model/LR26.pkl')"
   ]
  },
  {
   "attachments": {},
   "cell_type": "markdown",
   "metadata": {},
   "source": [
    "### 训练LR，把48分开"
   ]
  },
  {
   "cell_type": "code",
   "execution_count": 257,
   "metadata": {},
   "outputs": [
    {
     "data": {
      "text/plain": [
       "label\n",
       "4        886\n",
       "8        291\n",
       "dtype: int64"
      ]
     },
     "execution_count": 257,
     "metadata": {},
     "output_type": "execute_result"
    }
   ],
   "source": [
    "train_ft=torch.load('./features/features.pt')\n",
    "url_ft=pd.read_csv('url_feature_train.csv')\n",
    "url_ft=url_ft.iloc[:,:7].to_numpy()\n",
    "train_ft=np.concatenate([train_ft.numpy(),url_ft],axis=-1)\n",
    "train_label=pd.read_csv('./features/features_labels.csv')\n",
    "idx=(train_label['label']==4)|(train_label['label']==8)\n",
    "train_label=train_label[idx]\n",
    "train_ft=train_ft[idx]\n",
    "train_label.value_counts()"
   ]
  },
  {
   "cell_type": "code",
   "execution_count": 258,
   "metadata": {},
   "outputs": [],
   "source": [
    "test_ft=torch.load('./features/features_test.pt')\n",
    "test_url_ft=pd.read_csv('url_feature_test.csv')\n",
    "test_url_ft=test_url_ft.iloc[:,:7].to_numpy()\n",
    "test_ft=np.concatenate([test_ft.numpy(),test_url_ft],axis=-1)\n",
    "test_label=pd.read_csv('./features/features_labels_test.csv')\n",
    "idx=(test_label['label']==4)|(test_label['label']==8)\n",
    "test_ft=test_ft[idx]\n",
    "test_label=test_label[idx]"
   ]
  },
  {
   "cell_type": "code",
   "execution_count": 266,
   "metadata": {},
   "outputs": [
    {
     "name": "stderr",
     "output_type": "stream",
     "text": [
      "/Users/YZY/opt/anaconda3/envs/pytorch_cpu/lib/python3.10/site-packages/sklearn/utils/validation.py:1143: DataConversionWarning: A column-vector y was passed when a 1d array was expected. Please change the shape of y to (n_samples, ), for example using ravel().\n",
      "  y = column_or_1d(y, warn=True)\n"
     ]
    },
    {
     "data": {
      "text/plain": [
       "0.9055374592833876"
      ]
     },
     "execution_count": 266,
     "metadata": {},
     "output_type": "execute_result"
    }
   ],
   "source": [
    "LR48=SVC(max_iter=100000,kernel='rbf')\n",
    "# LR48=LogisticRegression(max_iter=30000)\n",
    "LR48.fit(train_ft,train_label)\n",
    "LR48.score(test_ft,test_label)"
   ]
  },
  {
   "cell_type": "code",
   "execution_count": 267,
   "metadata": {},
   "outputs": [
    {
     "name": "stdout",
     "output_type": "stream",
     "text": [
      "              precision    recall  f1-score   support\n",
      "\n",
      "           4       0.91      0.97      0.94       234\n",
      "           8       0.88      0.70      0.78        73\n",
      "\n",
      "    accuracy                           0.91       307\n",
      "   macro avg       0.90      0.83      0.86       307\n",
      "weighted avg       0.90      0.91      0.90       307\n",
      "\n"
     ]
    }
   ],
   "source": [
    "pred=LR48.predict(test_ft)\n",
    "print(metrics.classification_report(test_label,pred))"
   ]
  },
  {
   "cell_type": "code",
   "execution_count": 268,
   "metadata": {},
   "outputs": [
    {
     "data": {
      "text/plain": [
       "['./classifier_model/LR48.pkl']"
      ]
     },
     "execution_count": 268,
     "metadata": {},
     "output_type": "execute_result"
    }
   ],
   "source": [
    "joblib.dump(LR48,'./classifier_model/LR48.pkl')"
   ]
  },
  {
   "attachments": {},
   "cell_type": "markdown",
   "metadata": {},
   "source": [
    "### 建立整体层次结构"
   ]
  },
  {
   "cell_type": "code",
   "execution_count": 6,
   "metadata": {},
   "outputs": [],
   "source": [
    "class hierarchy_cls():\n",
    "    def __init__(self) -> None:\n",
    "        self.mlp=mlp(in_features=775)\n",
    "        st=torch.load('./classifier_model/best_mlp.pkl')\n",
    "        self.mlp.load_state_dict(st)\n",
    "        self.LR24=joblib.load('./classifier_model/LR24.pkl')\n",
    "        self.LR26=joblib.load('./classifier_model/LR26.pkl')\n",
    "        self.LR48=joblib.load('./classifier_model/LR48.pkl')\n",
    "    def predict(self,x):\n",
    "        output=first_division=(torch.argmax(self.mlp(x),dim=-1)).numpy()\n",
    "        idx_gp2=first_division==2\n",
    "        # print(x.shape)\n",
    "        features_2=x[idx_gp2]\n",
    "\n",
    "        second_division=self.LR24.predict(features_2)\n",
    "        # print(pd.DataFrame(second_division,columns=['0'])['0'].value_counts())\n",
    "        idx_gp26=second_division==2\n",
    "        idx_gp48=second_division==4\n",
    "        ft_26=features_2[idx_gp26]\n",
    "        ft_48=features_2[idx_gp48]\n",
    "\n",
    "        pred_26=self.LR26.predict(ft_26)\n",
    "        # print(pred_26)\n",
    "        pred_48=self.LR48.predict(ft_48)\n",
    "        # print(pd.DataFrame(output,columns=['0'])['0'].value_counts())\n",
    "        gp2=output[idx_gp2]\n",
    "        gp2[idx_gp48]=pred_48\n",
    "        gp2[idx_gp26]=pred_26\n",
    "        output[idx_gp2]=gp2\n",
    "        # print(pd.DataFrame(output,columns=['0'])['0'].value_counts())\n",
    "        return output\n"
   ]
  },
  {
   "cell_type": "code",
   "execution_count": 9,
   "metadata": {},
   "outputs": [],
   "source": [
    "cls=hierarchy_cls()\n",
    "test_ft=torch.load('./features/features_test.pt')\n",
    "test_url_ft=pd.read_csv('url_feature_test.csv')\n",
    "test_url_ft=test_url_ft.iloc[:,:7].to_numpy()\n",
    "test_ft=np.concatenate([test_ft.numpy(),test_url_ft],axis=-1)\n",
    "final_predict=cls.predict(torch.tensor(test_ft,dtype=torch.float32))"
   ]
  },
  {
   "attachments": {},
   "cell_type": "markdown",
   "metadata": {},
   "source": [
    "### 绘制混淆矩阵"
   ]
  },
  {
   "cell_type": "code",
   "execution_count": 13,
   "metadata": {},
   "outputs": [],
   "source": [
    "import matplotlib.pyplot as plt\n",
    "def draw_confusion_matrix(label,pred):\n",
    "    import seaborn as sns\n",
    "    from sklearn.metrics import confusion_matrix\n",
    "    c=confusion_matrix(label, pred)\n",
    "    labels=list(set(label)|set(pred))\n",
    "    print(labels)\n",
    "    sns.heatmap(data=c,annot=True,fmt='g',xticklabels=labels,yticklabels=labels)\n",
    "    plt.savefig('./img/new_confusion_matrix.png',dpi=720)"
   ]
  },
  {
   "cell_type": "code",
   "execution_count": 10,
   "metadata": {},
   "outputs": [
    {
     "data": {
      "text/plain": [
       "2     600\n",
       "4     278\n",
       "6     246\n",
       "10    198\n",
       "11     96\n",
       "8      63\n",
       "9      45\n",
       "3       6\n",
       "1       2\n",
       "7       2\n",
       "Name: label, dtype: int64"
      ]
     },
     "execution_count": 10,
     "metadata": {},
     "output_type": "execute_result"
    }
   ],
   "source": [
    "ana=pd.DataFrame(final_predict,columns=['label'])\n",
    "ana['label'].value_counts()"
   ]
  },
  {
   "cell_type": "code",
   "execution_count": 14,
   "metadata": {},
   "outputs": [
    {
     "name": "stdout",
     "output_type": "stream",
     "text": [
      "1274/1536=0.8294270833333334\n",
      "[1, 2, 3, 4, 6, 7, 8, 9, 10, 11, 12]\n"
     ]
    },
    {
     "data": {
      "image/png": "[encoded data removed]",
      "text/plain": [
       "<Figure size 640x480 with 2 Axes>"
      ]
     },
     "metadata": {},
     "output_type": "display_data"
    }
   ],
   "source": [
    "test_label=pd.read_csv('./features/features_labels_test.csv')\n",
    "right=(test_label['label']==final_predict).sum()\n",
    "length=len(final_predict)\n",
    "print(f'{right}/{length}={right/length}')\n",
    "draw_confusion_matrix(test_label['label'].to_numpy(),final_predict)"
   ]
  }
 ],
 "metadata": {
  "kernelspec": {
   "display_name": "pytorch_cpu",
   "language": "python",
   "name": "python3"
  },
  "language_info": {
   "codemirror_mode": {
    "name": "ipython",
    "version": 3
   },
   "file_extension": ".py",
   "mimetype": "text/x-python",
   "name": "python",
   "nbconvert_exporter": "python",
   "pygments_lexer": "ipython3",
   "version": "3.10.4"
  },
  "orig_nbformat": 4
 },
 "nbformat": 4,
 "nbformat_minor": 2
}
