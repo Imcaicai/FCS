{
 "cells": [
  {
   "attachments": {},
   "cell_type": "markdown",
   "metadata": {},
   "source": [
    "# 直接对Bert+IP特征进行多分类"
   ]
  },
  {
   "cell_type": "code",
   "execution_count": 3,
   "metadata": {},
   "outputs": [],
   "source": [
    "from torch.utils.data import DataLoader\n",
    "import os\n",
    "import numpy as np\n",
    "from sklearn.linear_model import LogisticRegression\n",
    "from sklearn.svm import SVC"
   ]
  },
  {
   "cell_type": "code",
   "execution_count": 2,
   "metadata": {},
   "outputs": [
    {
     "data": {
      "text/plain": [
       "(3859, 778)"
      ]
     },
     "execution_count": 2,
     "metadata": {},
     "output_type": "execute_result"
    }
   ],
   "source": [
    "from mlp import mlp\n",
    "import torch\n",
    "import pandas as pd\n",
    "# precess training data\n",
    "train_ft=torch.load('./url/ip/features_train.pt')\n",
    "url_ft=pd.read_csv('./url/ip/feature_train.csv')\n",
    "ip_ft=pd.read_csv('./url/ip/ip_train.csv')\n",
    "ip_ft=ip_ft.iloc[:,5:].to_numpy()\n",
    "url_ft=url_ft.iloc[:,:7].to_numpy()\n",
    "url_ft.shape\n",
    "train_ft=np.concatenate([train_ft.numpy(),url_ft,ip_ft],axis=-1)\n",
    "train_label=pd.read_csv('./url/ip/train_label.csv')\n",
    "train_label.value_counts()\n",
    "train_ft.shape"
   ]
  },
  {
   "cell_type": "code",
   "execution_count": 3,
   "metadata": {},
   "outputs": [
    {
     "data": {
      "text/plain": [
       "label\n",
       "2        1905\n",
       "6         903\n",
       "4         580\n",
       "8         228\n",
       "9         149\n",
       "3          37\n",
       "11         28\n",
       "10         17\n",
       "1           5\n",
       "7           5\n",
       "5           1\n",
       "12          1\n",
       "dtype: int64"
      ]
     },
     "execution_count": 3,
     "metadata": {},
     "output_type": "execute_result"
    }
   ],
   "source": [
    "train_label.value_counts()"
   ]
  },
  {
   "cell_type": "code",
   "execution_count": 4,
   "metadata": {},
   "outputs": [],
   "source": [
    "def eval_on_test(net,features,labels):\n",
    "    net.eval()\n",
    "    global highest_record\n",
    "    length=len(labels)\n",
    "    labels=DataLoader(labels,batch_size=64)\n",
    "    features=DataLoader(features,batch_size=64)\n",
    "    sum=0\n",
    "    for feature,label in zip(features,labels):\n",
    "        output=net(feature)\n",
    "        predict=torch.argmax(output,dim=-1)\n",
    "        sum+=(predict==label).sum()\n",
    "    if sum>highest_record:\n",
    "        print(f'new record:{sum}')\n",
    "        highest_record=sum\n",
    "        torch.save(net.state_dict(),'./classifier_model/ablation_best_mlp_ip.pkl')\n",
    "    print(f\"accuracy on test :{sum}/{length}={sum/length}\")"
   ]
  },
  {
   "cell_type": "code",
   "execution_count": 12,
   "metadata": {},
   "outputs": [],
   "source": [
    "def train(lr,batch_size,epoches,features_data,labels_data,test_features,test_labels,over_write=False):\n",
    "    # load data\n",
    "    labels=DataLoader(labels_data,batch_size=batch_size)\n",
    "    features=DataLoader(features_data,batch_size=batch_size)\n",
    "    # features_data=text_features\n",
    "    print(features_data.shape)\n",
    "    # !!!net and solver\n",
    "    net=mlp(in_features=features_data.shape[-1])\n",
    "\n",
    "    if os.path.exists('./classifier_model/ablation_mlp_ip.pkl') and not over_write:\n",
    "        state_dict=torch.load('./classifier_model/ablation_mlp_ip.pkl')\n",
    "        net.load_state_dict(state_dict=state_dict)\n",
    "    criterion=torch.nn.CrossEntropyLoss()\n",
    "    optimizer=torch.optim.Adam(net.parameters(),lr=lr)\n",
    "    # train\n",
    "    loss_list=[]\n",
    "    for e in range(epoches):\n",
    "        epoch_loss=[]\n",
    "        for label,feature in zip(labels,features):\n",
    "            net.train()\n",
    "            output=net(feature)\n",
    "            loss=criterion(output,label)\n",
    "            optimizer.zero_grad()\n",
    "            loss.backward()\n",
    "            optimizer.step()\n",
    "            epoch_loss.append(loss.item())\n",
    "        eval_on_test(net,features=test_features,labels=test_labels)\n",
    "        mean_loss=np.array(epoch_loss).mean()\n",
    "        loss_list.append(mean_loss)\n",
    "        print(f'epoch {e+1} loss: {mean_loss}')\n",
    "    loss_log=pd.DataFrame(loss_list,columns=['loss'])\n",
    "    if os.path.exists('./log/loss_ip.csv') and not over_write:\n",
    "        f=pd.read_csv('./log/loss_ip.csv')\n",
    "        loss_log=pd.concat([f,loss_log],axis=0)\n",
    "    loss_log.to_csv('./log/loss_ip.csv',index=None)\n",
    "    torch.save(net.state_dict(),'./classifier_model/ablation_mlp_ip.pkl')\n"
   ]
  },
  {
   "cell_type": "code",
   "execution_count": 6,
   "metadata": {},
   "outputs": [
    {
     "data": {
      "text/plain": [
       "(868, 778)"
      ]
     },
     "execution_count": 6,
     "metadata": {},
     "output_type": "execute_result"
    }
   ],
   "source": [
    "test_ft=torch.load('./url/ip/features_test.pt')\n",
    "test_url_ft=pd.read_csv('./url/ip/feature_test.csv')\n",
    "test_ip_ft=pd.read_csv('./url/ip/ip_test.csv')\n",
    "test_url_ft=test_url_ft.iloc[:,:7].to_numpy()\n",
    "test_ip_ft=test_ip_ft.iloc[:,5:].to_numpy()\n",
    "test_ft=np.concatenate([test_ft.numpy(),test_url_ft,test_ip_ft],axis=-1)\n",
    "test_label=pd.read_csv('./url/ip/test_label.csv')\n",
    "test_label.value_counts()\n",
    "test_ft.shape"
   ]
  },
  {
   "cell_type": "code",
   "execution_count": 7,
   "metadata": {},
   "outputs": [
    {
     "data": {
      "text/plain": [
       "label\n",
       "2        429\n",
       "6        204\n",
       "4        125\n",
       "8         54\n",
       "9         40\n",
       "3          7\n",
       "1          2\n",
       "7          2\n",
       "10         2\n",
       "12         2\n",
       "11         1\n",
       "dtype: int64"
      ]
     },
     "execution_count": 7,
     "metadata": {},
     "output_type": "execute_result"
    }
   ],
   "source": [
    "test_label.value_counts()"
   ]
  },
  {
   "cell_type": "code",
   "execution_count": 9,
   "metadata": {},
   "outputs": [],
   "source": [
    "highest_record=0"
   ]
  },
  {
   "cell_type": "code",
   "execution_count": 18,
   "metadata": {},
   "outputs": [
    {
     "name": "stdout",
     "output_type": "stream",
     "text": [
      "torch.Size([3859, 778])\n",
      "accuracy on test :866/868=0.9976958632469177\n",
      "epoch 1 loss: 0.0046817101762172564\n",
      "accuracy on test :866/868=0.9976958632469177\n",
      "epoch 2 loss: 0.005265115986231115\n",
      "accuracy on test :866/868=0.9976958632469177\n",
      "epoch 3 loss: 0.005121668090785248\n",
      "accuracy on test :866/868=0.9976958632469177\n",
      "epoch 4 loss: 0.0030055865223865353\n",
      "accuracy on test :866/868=0.9976958632469177\n",
      "epoch 5 loss: 0.00452202217291956\n",
      "accuracy on test :866/868=0.9976958632469177\n",
      "epoch 6 loss: 0.0034763844307521183\n",
      "accuracy on test :866/868=0.9976958632469177\n",
      "epoch 7 loss: 0.004222350652360712\n",
      "accuracy on test :866/868=0.9976958632469177\n",
      "epoch 8 loss: 0.0028702977352690487\n",
      "accuracy on test :866/868=0.9976958632469177\n",
      "epoch 9 loss: 0.0036879228811046256\n",
      "accuracy on test :866/868=0.9976958632469177\n",
      "epoch 10 loss: 0.0025829332495897524\n"
     ]
    }
   ],
   "source": [
    "train(lr=5e-6,\n",
    "      batch_size=32,\n",
    "      epoches=10,\n",
    "      features_data=torch.tensor(train_ft,dtype=torch.float32),\n",
    "      labels_data=train_label['label'],\n",
    "      test_features=torch.tensor(test_ft,dtype=torch.float32),\n",
    "      test_labels=test_label['label'],\n",
    "      over_write=False)"
   ]
  },
  {
   "cell_type": "code",
   "execution_count": 18,
   "metadata": {},
   "outputs": [
    {
     "name": "stdout",
     "output_type": "stream",
     "text": [
      "torch.Size([868, 768])\n",
      "(868, 7)\n",
      "(868, 3)\n",
      "(868, 778)\n"
     ]
    }
   ],
   "source": [
    "import joblib\n",
    "from mlp import mlp\n",
    "import torch\n",
    "import pandas as pd\n",
    "cls=mlp(in_features=778)\n",
    "state_dict=torch.load('./classifier_model/ablation_best_mlp_ip.pkl')\n",
    "cls.load_state_dict(state_dict=state_dict)\n",
    "test_ft=torch.load('./url/ip/features_test.pt')\n",
    "print(test_ft.shape)\n",
    "test_url_ft=pd.read_csv('./url/ip/feature_test.csv')\n",
    "test_url_ft=test_url_ft.iloc[:,:7].to_numpy()\n",
    "print(test_url_ft.shape)\n",
    "test_ip_ft=pd.read_csv('./url/ip/ip_test.csv')\n",
    "test_ip_ft=test_ip_ft.iloc[:,5:].to_numpy()\n",
    "print(test_ip_ft.shape)\n",
    "test_ft=np.concatenate([test_ft.numpy(),test_url_ft,test_ip_ft],axis=-1)\n",
    "print(test_ft.shape)\n",
    "final_predict=cls(torch.tensor(test_ft,dtype=torch.float32))"
   ]
  },
  {
   "attachments": {},
   "cell_type": "markdown",
   "metadata": {},
   "source": [
    "### 绘制混淆矩阵"
   ]
  },
  {
   "cell_type": "code",
   "execution_count": 19,
   "metadata": {},
   "outputs": [
    {
     "data": {
      "text/plain": [
       "torch.Size([868, 13])"
      ]
     },
     "execution_count": 19,
     "metadata": {},
     "output_type": "execute_result"
    }
   ],
   "source": [
    "final_predict.shape"
   ]
  },
  {
   "cell_type": "code",
   "execution_count": 20,
   "metadata": {},
   "outputs": [],
   "source": [
    "import matplotlib.pyplot as plt\n",
    "def draw_confusion_matrix(label,pred):\n",
    "    import seaborn as sns\n",
    "    from sklearn.metrics import confusion_matrix\n",
    "    c=confusion_matrix(label, pred)\n",
    "    labels=list(set(label)|set(pred))\n",
    "    print(labels)\n",
    "    sns.heatmap(data=c,annot=True,fmt='g',xticklabels=labels,yticklabels=labels)\n",
    "    plt.savefig('./img/bert_ip_mlp_confusion_matrix.png',dpi=720)"
   ]
  },
  {
   "cell_type": "code",
   "execution_count": 21,
   "metadata": {},
   "outputs": [],
   "source": [
    "final_prediction=torch.argmax(final_predict,dim=-1)\n",
    "ana=pd.DataFrame(final_prediction.detach(),columns=['label'])\n",
    "test_ip_ft=pd.read_csv('./url/ip/ip_test.csv')\n",
    "text=test_ip_ft['text']\n",
    "text=[i[:100] for i in text]\n",
    "text=pd.DataFrame(text,columns=['text'])\n",
    "val=pd.concat([ana,text],axis=1)\n",
    "val.to_csv('./url/ip/ablation_validation.csv',index=None)"
   ]
  },
  {
   "cell_type": "code",
   "execution_count": 22,
   "metadata": {},
   "outputs": [
    {
     "data": {
      "text/plain": [
       "tensor([ 2,  2,  9,  2,  6,  2,  2,  2,  2,  8,  2,  4,  8,  8,  6,  6,  4,  8,\n",
       "         6,  9,  2,  2,  8,  4,  6,  6,  2,  2,  2,  2,  2,  2,  2,  4,  4,  2,\n",
       "         4,  4,  6,  4,  4,  6,  6,  2,  2,  2,  4,  6,  2,  8,  2,  2,  2,  2,\n",
       "         2,  3,  6,  2,  4,  4,  6,  2,  2,  2,  6,  6,  4,  2,  6,  2,  6,  4,\n",
       "         3,  2,  6,  8,  8,  4,  2,  4,  2,  6,  2,  1,  2,  2,  2,  8,  2,  2,\n",
       "         6,  2,  2,  6,  2,  6,  6,  4,  6,  6,  2,  6,  2,  8,  6,  6,  2,  6,\n",
       "         8,  8,  2,  8,  8,  2,  4,  2,  9,  2,  2,  2,  4,  6,  6,  2,  2,  4,\n",
       "         6,  2,  2, 11,  4,  4,  9,  2,  2,  6,  2,  4,  2,  2,  6,  2,  6,  2,\n",
       "         6,  2,  2,  2,  2,  2, 11,  2,  2,  6,  2,  2,  4,  9,  2,  2,  9,  2,\n",
       "         4,  6,  2,  6,  4,  4,  4,  2,  6,  4,  2,  2,  6,  4,  2,  2,  2,  6,\n",
       "         4,  4,  6,  2,  2,  4,  2,  2,  2,  2,  2,  4,  4,  2,  4,  4,  6,  2,\n",
       "         2,  2,  2,  2,  6,  6,  6,  2,  2,  4,  6,  2,  9,  4,  6,  4,  4,  2,\n",
       "         2,  2,  6,  6,  6,  4,  2,  2,  4,  6,  2,  2,  8,  2,  8,  2,  4,  2,\n",
       "         2,  2,  2,  2,  2,  2,  2,  2,  9,  2,  2,  6,  6,  2,  6,  8,  8,  2,\n",
       "         4,  2,  2,  6,  2,  2,  6,  6,  2,  2,  4,  2,  4,  8,  2,  6,  2,  2,\n",
       "         4,  6,  6,  9,  6,  2,  2,  2,  2,  2,  2,  6,  6,  2,  2,  9,  4,  2,\n",
       "         9,  2,  2,  2,  6,  6,  4,  6,  2,  2,  4,  2,  8,  2,  2,  4,  9,  8,\n",
       "         2,  2,  4,  6,  9,  2,  2,  8,  2,  6,  2,  6,  2,  2,  4,  4,  9,  2,\n",
       "         2,  2,  6,  6,  2,  2,  2,  2,  2,  2,  2,  2,  4,  2,  2,  2,  9,  2,\n",
       "         2,  4,  6,  2,  2,  6,  2,  6,  9,  4,  4,  6,  9,  2,  9,  6,  6,  2,\n",
       "         4,  2,  6,  2,  2,  2,  2,  2,  2,  2,  2,  2,  4,  4,  4,  9,  3,  2,\n",
       "         4,  2,  2,  6,  6,  2,  6,  2,  2,  2,  6,  3,  6,  4,  2,  2,  2,  6,\n",
       "         6,  2,  2,  6,  6,  2,  2,  2,  6,  8,  2,  2,  4,  4,  2,  2,  8,  2,\n",
       "         2,  4,  8,  4,  2,  4,  2,  8,  2,  2,  2,  4,  6,  6,  2,  6,  6,  2,\n",
       "         4,  2,  2,  6,  6,  2,  2,  2,  2,  2,  6,  2,  6,  8,  6,  8,  2,  2,\n",
       "         2,  2,  2,  2,  2,  2,  2,  4,  6,  2,  2,  9,  2,  4,  2,  2,  2,  6,\n",
       "         2,  2,  9,  6,  6,  6,  6,  2,  6,  6,  8,  6,  4,  6,  2,  8,  4,  8,\n",
       "         6,  4,  2,  2,  6,  2,  9,  6,  4,  2,  9,  4,  2,  6,  6,  2,  2,  2,\n",
       "         2,  4,  2,  2,  2,  9,  8,  2,  2,  2,  4,  6,  4,  6,  2,  4,  4,  4,\n",
       "         4,  2,  4,  2,  4,  8,  2,  8,  9,  2,  2,  2,  6,  4,  2,  2,  6,  2,\n",
       "         2,  3,  6,  6,  2,  4,  2,  2,  8,  2,  2,  2,  2,  2,  8,  4,  6,  2,\n",
       "         2,  2,  2,  9,  9,  2,  6,  2,  6,  2,  8,  6,  6,  2,  8,  6,  2,  6,\n",
       "         2,  4,  6,  2,  6,  2,  4,  2,  2,  2,  4,  2,  4,  2,  2,  9,  4,  2,\n",
       "         2,  2,  2,  2,  2,  8,  4,  6,  8,  2,  9,  6,  2,  2,  9,  2,  2,  2,\n",
       "         8,  6,  6,  2,  2,  2,  4,  4,  6,  2,  6,  6,  2,  2,  9,  2,  4,  4,\n",
       "         2,  2,  8,  8,  2,  6,  2,  2,  2,  6,  2,  4,  2,  6,  8,  2,  9,  6,\n",
       "         2,  2,  2,  6,  6,  8,  2,  2,  2,  2,  2,  2,  2,  2,  9,  2,  8,  8,\n",
       "         2,  2,  6,  2,  2,  2,  6,  6,  2,  6,  6,  2,  6,  2,  2,  8,  2,  8,\n",
       "         2,  6,  6,  2,  6,  6,  2,  6,  6,  3,  6,  4,  2,  2,  2,  2,  8,  2,\n",
       "         4,  2,  6,  2,  2,  8,  4,  2,  6,  4,  2,  2,  2,  2,  3,  2,  6,  9,\n",
       "         2,  2,  9,  2,  2,  2,  6,  6, 10,  6,  6,  2, 10,  2,  2,  2,  2,  6,\n",
       "         6,  6,  9,  2,  2,  2,  4,  6,  6,  2,  2, 10,  2,  2,  6,  4,  2,  2,\n",
       "         4,  4,  6,  4,  6,  6,  4,  2,  2,  6,  2,  6,  2,  4,  2,  4,  2,  2,\n",
       "         2,  2,  6,  2,  2,  6,  2,  4,  6,  8,  2,  2,  2,  2,  6,  4,  2,  6,\n",
       "         6,  8,  6,  6,  2,  6,  6,  2,  6,  6,  2,  2,  9,  6,  4,  9,  2,  4,\n",
       "         2,  6,  2,  2,  4,  6,  2,  2,  6,  6,  6,  2,  2,  2,  9,  6,  8,  2,\n",
       "         4,  8,  2,  2,  6,  4,  6,  2,  2,  2,  6,  6,  2,  6,  6,  6,  2,  2,\n",
       "         4,  8,  7,  2,  4,  2,  9,  2,  2,  4,  6,  6,  2,  2,  2,  2,  6,  6,\n",
       "         2,  6,  6,  6])"
      ]
     },
     "execution_count": 22,
     "metadata": {},
     "output_type": "execute_result"
    }
   ],
   "source": [
    "final_prediction"
   ]
  },
  {
   "cell_type": "code",
   "execution_count": 24,
   "metadata": {},
   "outputs": [
    {
     "data": {
      "text/plain": [
       "863"
      ]
     },
     "execution_count": 24,
     "metadata": {},
     "output_type": "execute_result"
    }
   ],
   "source": [
    "test_label=pd.read_csv('./url/ip/test_label.csv')\n",
    "# test_label=pd.read_csv('./url/ip/test_label.csv')\n",
    "right=(test_label['label']==final_prediction.numpy()).sum()\n",
    "# length=len(final_prediction)\n",
    "# print(f'{right}/{length}={right/length}')\n",
    "right"
   ]
  },
  {
   "cell_type": "code",
   "execution_count": 17,
   "metadata": {},
   "outputs": [
    {
     "name": "stdout",
     "output_type": "stream",
     "text": [
      "[1, 2, 3, 4, 6, 7, 8, 9, 10, 11, 12]\n"
     ]
    },
    {
     "data": {
      "image/png": "[encoded data removed]",
      "text/plain": [
       "<Figure size 640x480 with 2 Axes>"
      ]
     },
     "metadata": {},
     "output_type": "display_data"
    }
   ],
   "source": [
    "draw_confusion_matrix(test_label['label'].to_numpy(),final_prediction.numpy())"
   ]
  }
 ],
 "metadata": {
  "kernelspec": {
   "display_name": "pytorch_cpu",
   "language": "python",
   "name": "python3"
  },
  "language_info": {
   "codemirror_mode": {
    "name": "ipython",
    "version": 3
   },
   "file_extension": ".py",
   "mimetype": "text/x-python",
   "name": "python",
   "nbconvert_exporter": "python",
   "pygments_lexer": "ipython3",
   "version": "3.10.4"
  },
  "orig_nbformat": 4
 },
 "nbformat": 4,
 "nbformat_minor": 2
}
