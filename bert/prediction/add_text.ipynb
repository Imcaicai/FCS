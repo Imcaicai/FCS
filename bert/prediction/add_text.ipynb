{
 "cells": [
  {
   "cell_type": "code",
   "execution_count": 14,
   "metadata": {},
   "outputs": [
    {
     "name": "stdout",
     "output_type": "stream",
     "text": [
      "175\n",
      "175\n"
     ]
    }
   ],
   "source": [
    "import pandas as pd\n",
    "import copy\n",
    "ip=pd.read_csv('../test/no_ip.csv')\n",
    "ip_pred=pd.read_csv('./final_text_noip_prediction.csv')\n",
    "print(len(ip))\n",
    "print(len(ip_pred))"
   ]
  },
  {
   "cell_type": "code",
   "execution_count": 15,
   "metadata": {},
   "outputs": [],
   "source": [
    "text=copy.copy(ip['text'])\n",
    "text=[i[:100] for i in text]"
   ]
  },
  {
   "cell_type": "code",
   "execution_count": 16,
   "metadata": {},
   "outputs": [
    {
     "data": {
      "text/html": [
       "<div>\n",
       "<style scoped>\n",
       "    .dataframe tbody tr th:only-of-type {\n",
       "        vertical-align: middle;\n",
       "    }\n",
       "\n",
       "    .dataframe tbody tr th {\n",
       "        vertical-align: top;\n",
       "    }\n",
       "\n",
       "    .dataframe thead th {\n",
       "        text-align: right;\n",
       "    }\n",
       "</style>\n",
       "<table border=\"1\" class=\"dataframe\">\n",
       "  <thead>\n",
       "    <tr style=\"text-align: right;\">\n",
       "      <th></th>\n",
       "      <th>url</th>\n",
       "      <th>label</th>\n",
       "      <th>text</th>\n",
       "    </tr>\n",
       "  </thead>\n",
       "  <tbody>\n",
       "    <tr>\n",
       "      <th>0</th>\n",
       "      <td>dingyuxt.com</td>\n",
       "      <td>2</td>\n",
       "      <td>波多野结衣在线视频丰满大胸年轻继坶荷兰肥妇少妇洗澡</td>\n",
       "    </tr>\n",
       "    <tr>\n",
       "      <th>1</th>\n",
       "      <td>f978pay.net</td>\n",
       "      <td>10</td>\n",
       "      <td>没有找到站点宋体没有找到站点您的请求在服务器中没有找到对应的站点可能原因您没有将此域名或绑定...</td>\n",
       "    </tr>\n",
       "    <tr>\n",
       "      <th>2</th>\n",
       "      <td>lp.bd.com</td>\n",
       "      <td>10</td>\n",
       "      <td>产品介绍关于碧迪医疗联系我们职业发展中国中国日本医疗能力肿瘤诊断软组织穿刺活检针骨髓穿刺活检...</td>\n",
       "    </tr>\n",
       "    <tr>\n",
       "      <th>3</th>\n",
       "      <td>sj29.mktossl.com</td>\n",
       "      <td>6</td>\n",
       "      <td>日本語</td>\n",
       "    </tr>\n",
       "    <tr>\n",
       "      <th>4</th>\n",
       "      <td>www.fswycj.com</td>\n",
       "      <td>6</td>\n",
       "      <td>青瓦仿古青瓦古建青瓦范氏瓦业有限公司范氏瓦业有限公司咨询热线网站首页关于我们关于我们联系我们...</td>\n",
       "    </tr>\n",
       "  </tbody>\n",
       "</table>\n",
       "</div>"
      ],
      "text/plain": [
       "                url  label                                               text\n",
       "0      dingyuxt.com      2                          波多野结衣在线视频丰满大胸年轻继坶荷兰肥妇少妇洗澡\n",
       "1       f978pay.net     10  没有找到站点宋体没有找到站点您的请求在服务器中没有找到对应的站点可能原因您没有将此域名或绑定...\n",
       "2         lp.bd.com     10  产品介绍关于碧迪医疗联系我们职业发展中国中国日本医疗能力肿瘤诊断软组织穿刺活检针骨髓穿刺活检...\n",
       "3  sj29.mktossl.com      6                                                日本語\n",
       "4    www.fswycj.com      6  青瓦仿古青瓦古建青瓦范氏瓦业有限公司范氏瓦业有限公司咨询热线网站首页关于我们关于我们联系我们..."
      ]
     },
     "execution_count": 16,
     "metadata": {},
     "output_type": "execute_result"
    }
   ],
   "source": [
    "text=pd.DataFrame(text,columns=['text'])\n",
    "ip_text=pd.concat([ip_pred,text],axis=1)\n",
    "ip_text.head()"
   ]
  },
  {
   "cell_type": "code",
   "execution_count": 13,
   "metadata": {},
   "outputs": [],
   "source": [
    "ip_text.to_csv('./noip_text.csv',index=None)"
   ]
  }
 ],
 "metadata": {
  "kernelspec": {
   "display_name": "pytorch_cpu",
   "language": "python",
   "name": "python3"
  },
  "language_info": {
   "codemirror_mode": {
    "name": "ipython",
    "version": 3
   },
   "file_extension": ".py",
   "mimetype": "text/x-python",
   "name": "python",
   "nbconvert_exporter": "python",
   "pygments_lexer": "ipython3",
   "version": "3.10.4"
  },
  "orig_nbformat": 4
 },
 "nbformat": 4,
 "nbformat_minor": 2
}
