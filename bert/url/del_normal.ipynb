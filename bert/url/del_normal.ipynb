{
 "cells": [
  {
   "cell_type": "code",
   "execution_count": 1,
   "metadata": {},
   "outputs": [
    {
     "data": {
      "text/plain": [
       "0     10000\n",
       "2      5000\n",
       "4      4658\n",
       "6      2603\n",
       "10      997\n",
       "8       883\n",
       "9       595\n",
       "11      549\n",
       "3       173\n",
       "7        11\n",
       "12        7\n",
       "5         2\n",
       "Name: label, dtype: int64"
      ]
     },
     "execution_count": 1,
     "metadata": {},
     "output_type": "execute_result"
    }
   ],
   "source": [
    "import pandas as pd\n",
    "f=pd.read_csv('./pure_url/down_sampling.csv')\n",
    "f['label'].value_counts()\n"
   ]
  },
  {
   "cell_type": "code",
   "execution_count": 2,
   "metadata": {},
   "outputs": [
    {
     "data": {
      "text/plain": [
       "2     5000\n",
       "4     4658\n",
       "6     2603\n",
       "10     997\n",
       "8      883\n",
       "9      595\n",
       "11     549\n",
       "3      173\n",
       "7       11\n",
       "12       7\n",
       "5        2\n",
       "Name: label, dtype: int64"
      ]
     },
     "execution_count": 2,
     "metadata": {},
     "output_type": "execute_result"
    }
   ],
   "source": [
    "f=f[f['label']!=0]\n",
    "f['label'].value_counts()"
   ]
  },
  {
   "cell_type": "code",
   "execution_count": 4,
   "metadata": {},
   "outputs": [
    {
     "data": {
      "text/plain": [
       "2     3000\n",
       "6     1373\n",
       "4     1120\n",
       "10     979\n",
       "11     521\n",
       "8      364\n",
       "9      234\n",
       "3       62\n",
       "1        9\n",
       "7        8\n",
       "12       4\n",
       "5        2\n",
       "Name: label, dtype: int64"
      ]
     },
     "execution_count": 4,
     "metadata": {},
     "output_type": "execute_result"
    }
   ],
   "source": [
    "f1=f[f['label']==2]\n",
    "f2=f[f['label']!=2]\n",
    "f1=f1[:3000]\n",
    "f=pd.concat([f1,f2],axis=0)\n",
    "f['label'].value_counts()"
   ]
  },
  {
   "cell_type": "code",
   "execution_count": 3,
   "metadata": {},
   "outputs": [],
   "source": [
    "f.to_csv('./pure_url_abnormal.csv',index=None)"
   ]
  },
  {
   "cell_type": "code",
   "execution_count": 4,
   "metadata": {},
   "outputs": [
    {
     "data": {
      "text/plain": [
       "6140"
      ]
     },
     "execution_count": 4,
     "metadata": {},
     "output_type": "execute_result"
    }
   ],
   "source": [
    "f=pd.read_csv('./pure_abnormal/pure_abnormal_train.csv')\n",
    "len(f)"
   ]
  }
 ],
 "metadata": {
  "kernelspec": {
   "display_name": "pytorch_cpu",
   "language": "python",
   "name": "python3"
  },
  "language_info": {
   "codemirror_mode": {
    "name": "ipython",
    "version": 3
   },
   "file_extension": ".py",
   "mimetype": "text/x-python",
   "name": "python",
   "nbconvert_exporter": "python",
   "pygments_lexer": "ipython3",
   "version": "3.10.4"
  },
  "orig_nbformat": 4
 },
 "nbformat": 4,
 "nbformat_minor": 2
}
