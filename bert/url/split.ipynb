{
 "cells": [
  {
   "cell_type": "code",
   "execution_count": 1,
   "metadata": {},
   "outputs": [],
   "source": [
    "# This code is used to split the dataset into train dataset and test dataset.\n",
    "import pandas as pd\n",
    "from sklearn.model_selection import train_test_split\n",
    "f=pd.read_csv('./down_sampling.csv')\n",
    "train,test=train_test_split(f,test_size=0.2,shuffle=True,random_state=5)"
   ]
  },
  {
   "cell_type": "code",
   "execution_count": 2,
   "metadata": {},
   "outputs": [
    {
     "data": {
      "text/html": [
       "<div>\n",
       "<style scoped>\n",
       "    .dataframe tbody tr th:only-of-type {\n",
       "        vertical-align: middle;\n",
       "    }\n",
       "\n",
       "    .dataframe tbody tr th {\n",
       "        vertical-align: top;\n",
       "    }\n",
       "\n",
       "    .dataframe thead th {\n",
       "        text-align: right;\n",
       "    }\n",
       "</style>\n",
       "<table border=\"1\" class=\"dataframe\">\n",
       "  <thead>\n",
       "    <tr style=\"text-align: right;\">\n",
       "      <th></th>\n",
       "      <th>url</th>\n",
       "      <th>label</th>\n",
       "    </tr>\n",
       "  </thead>\n",
       "  <tbody>\n",
       "    <tr>\n",
       "      <th>16602</th>\n",
       "      <td>www.macaudesigners.org</td>\n",
       "      <td>6</td>\n",
       "    </tr>\n",
       "    <tr>\n",
       "      <th>3171</th>\n",
       "      <td>83dbcff9ef34cd21a983e9f9136ea69b.jddebug.com</td>\n",
       "      <td>0</td>\n",
       "    </tr>\n",
       "    <tr>\n",
       "      <th>2889</th>\n",
       "      <td>1656557126.1772785060.sngdia.imtmp.net</td>\n",
       "      <td>0</td>\n",
       "    </tr>\n",
       "    <tr>\n",
       "      <th>25319</th>\n",
       "      <td>www.cs8321.vip</td>\n",
       "      <td>8</td>\n",
       "    </tr>\n",
       "    <tr>\n",
       "      <th>22670</th>\n",
       "      <td>app.gkgglioa.com</td>\n",
       "      <td>4</td>\n",
       "    </tr>\n",
       "  </tbody>\n",
       "</table>\n",
       "</div>"
      ],
      "text/plain": [
       "                                                url  label\n",
       "16602                        www.macaudesigners.org      6\n",
       "3171   83dbcff9ef34cd21a983e9f9136ea69b.jddebug.com      0\n",
       "2889         1656557126.1772785060.sngdia.imtmp.net      0\n",
       "25319                                www.cs8321.vip      8\n",
       "22670                              app.gkgglioa.com      4"
      ]
     },
     "execution_count": 2,
     "metadata": {},
     "output_type": "execute_result"
    }
   ],
   "source": [
    "train.head()"
   ]
  },
  {
   "cell_type": "code",
   "execution_count": 3,
   "metadata": {},
   "outputs": [
    {
     "data": {
      "text/plain": [
       "0     7989\n",
       "2     4006\n",
       "4     3736\n",
       "6     2058\n",
       "10     806\n",
       "8      705\n",
       "9      476\n",
       "11     447\n",
       "3      142\n",
       "7        8\n",
       "12       7\n",
       "5        2\n",
       "Name: label, dtype: int64"
      ]
     },
     "execution_count": 3,
     "metadata": {},
     "output_type": "execute_result"
    }
   ],
   "source": [
    "train.to_csv('./ds_train.csv',index=None)\n",
    "train['label'].value_counts()"
   ]
  },
  {
   "cell_type": "code",
   "execution_count": 4,
   "metadata": {},
   "outputs": [
    {
     "data": {
      "text/plain": [
       "0     2011\n",
       "2      994\n",
       "4      922\n",
       "6      545\n",
       "10     191\n",
       "8      178\n",
       "9      119\n",
       "11     102\n",
       "3       31\n",
       "7        3\n",
       "Name: label, dtype: int64"
      ]
     },
     "execution_count": 4,
     "metadata": {},
     "output_type": "execute_result"
    }
   ],
   "source": [
    "test.to_csv('./ds_test.csv',index=None)\n",
    "test['label'].value_counts()"
   ]
  }
 ],
 "metadata": {
  "kernelspec": {
   "display_name": "pytorch_cpu",
   "language": "python",
   "name": "python3"
  },
  "language_info": {
   "codemirror_mode": {
    "name": "ipython",
    "version": 3
   },
   "file_extension": ".py",
   "mimetype": "text/x-python",
   "name": "python",
   "nbconvert_exporter": "python",
   "pygments_lexer": "ipython3",
   "version": "3.10.4"
  },
  "orig_nbformat": 4,
  "vscode": {
   "interpreter": {
    "hash": "b48caa7b6cf1d557c56bc26e6dcb2a1ffcb157185263bbb2775613e0df82cb29"
   }
  }
 },
 "nbformat": 4,
 "nbformat_minor": 2
}
