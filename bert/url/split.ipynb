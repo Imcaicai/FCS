{
 "cells": [
  {
   "cell_type": "code",
   "execution_count": 2,
   "metadata": {},
   "outputs": [],
   "source": [
    "# This code is used to split the dataset into train dataset and test dataset.\n",
    "import pandas as pd\n",
    "from sklearn.model_selection import train_test_split\n",
    "f=pd.read_csv('./abnormal.csv')\n",
    "train,test=train_test_split(f,test_size=0.2,shuffle=True,random_state=5)"
   ]
  },
  {
   "cell_type": "code",
   "execution_count": 3,
   "metadata": {},
   "outputs": [
    {
     "data": {
      "text/html": [
       "<div>\n",
       "<style scoped>\n",
       "    .dataframe tbody tr th:only-of-type {\n",
       "        vertical-align: middle;\n",
       "    }\n",
       "\n",
       "    .dataframe tbody tr th {\n",
       "        vertical-align: top;\n",
       "    }\n",
       "\n",
       "    .dataframe thead th {\n",
       "        text-align: right;\n",
       "    }\n",
       "</style>\n",
       "<table border=\"1\" class=\"dataframe\">\n",
       "  <thead>\n",
       "    <tr style=\"text-align: right;\">\n",
       "      <th></th>\n",
       "      <th>url</th>\n",
       "      <th>label</th>\n",
       "      <th>text</th>\n",
       "    </tr>\n",
       "  </thead>\n",
       "  <tbody>\n",
       "    <tr>\n",
       "      <th>11074</th>\n",
       "      <td>yiyongshun.com</td>\n",
       "      <td>2</td>\n",
       "      <td>毛还没长齐被开嫩苞_好感度刷满就可以干的游戏_亚洲国产精品热久久_乳峰高耸的美妇梅开二度</td>\n",
       "    </tr>\n",
       "    <tr>\n",
       "      <th>14870</th>\n",
       "      <td>http://112.15.232.43:8081/warning.html?u=http%...</td>\n",
       "      <td>10</td>\n",
       "      <td>国家反诈中心工信部反诈中心中国移动提示您您访问的网站网页存在诈骗风险请注意个人信息和财产安全...</td>\n",
       "    </tr>\n",
       "    <tr>\n",
       "      <th>8472</th>\n",
       "      <td>www.somhu.com</td>\n",
       "      <td>2</td>\n",
       "      <td>日本高清WWW午色夜COMYZYHUST亚洲97SE综合一区二区三区YZYHUST在线观看亚...</td>\n",
       "    </tr>\n",
       "    <tr>\n",
       "      <th>14763</th>\n",
       "      <td>http://wz.0514dk.com/</td>\n",
       "      <td>10</td>\n",
       "      <td>温州贷款温州贷款公司温州房产汽车抵押贷款温州贷款服务平台温州贷款温州个人贷款温州贷款公司温州...</td>\n",
       "    </tr>\n",
       "    <tr>\n",
       "      <th>6216</th>\n",
       "      <td>www.zunhu168.com</td>\n",
       "      <td>2</td>\n",
       "      <td>404 Not Found 404 Not Found nginx</td>\n",
       "    </tr>\n",
       "  </tbody>\n",
       "</table>\n",
       "</div>"
      ],
      "text/plain": [
       "                                                     url  label  \\\n",
       "11074                                     yiyongshun.com      2   \n",
       "14870  http://112.15.232.43:8081/warning.html?u=http%...     10   \n",
       "8472                                       www.somhu.com      2   \n",
       "14763                              http://wz.0514dk.com/     10   \n",
       "6216                                    www.zunhu168.com      2   \n",
       "\n",
       "                                                    text  \n",
       "11074       毛还没长齐被开嫩苞_好感度刷满就可以干的游戏_亚洲国产精品热久久_乳峰高耸的美妇梅开二度  \n",
       "14870  国家反诈中心工信部反诈中心中国移动提示您您访问的网站网页存在诈骗风险请注意个人信息和财产安全...  \n",
       "8472   日本高清WWW午色夜COMYZYHUST亚洲97SE综合一区二区三区YZYHUST在线观看亚...  \n",
       "14763  温州贷款温州贷款公司温州房产汽车抵押贷款温州贷款服务平台温州贷款温州个人贷款温州贷款公司温州...  \n",
       "6216                   404 Not Found 404 Not Found nginx  "
      ]
     },
     "execution_count": 3,
     "metadata": {},
     "output_type": "execute_result"
    }
   ],
   "source": [
    "train.head()"
   ]
  },
  {
   "cell_type": "code",
   "execution_count": 4,
   "metadata": {},
   "outputs": [
    {
     "data": {
      "text/plain": [
       "2     5505\n",
       "0     2823\n",
       "6     1098\n",
       "4      897\n",
       "10     767\n",
       "11     429\n",
       "8      282\n",
       "9      193\n",
       "3       52\n",
       "1        7\n",
       "7        5\n",
       "5        2\n",
       "12       2\n",
       "Name: label, dtype: int64"
      ]
     },
     "execution_count": 4,
     "metadata": {},
     "output_type": "execute_result"
    }
   ],
   "source": [
    "train.to_csv('./abnormal_train.csv',index=None)\n",
    "train['label'].value_counts()"
   ]
  },
  {
   "cell_type": "code",
   "execution_count": 5,
   "metadata": {},
   "outputs": [
    {
     "data": {
      "text/plain": [
       "2     1358\n",
       "0      716\n",
       "6      275\n",
       "4      223\n",
       "10     212\n",
       "11      92\n",
       "8       82\n",
       "9       41\n",
       "3       10\n",
       "7        3\n",
       "12       2\n",
       "1        2\n",
       "Name: label, dtype: int64"
      ]
     },
     "execution_count": 5,
     "metadata": {},
     "output_type": "execute_result"
    }
   ],
   "source": [
    "test.to_csv('./abnormal_test.csv',index=None)\n",
    "test['label'].value_counts()"
   ]
  },
  {
   "cell_type": "code",
   "execution_count": null,
   "metadata": {},
   "outputs": [],
   "source": [
    "import csv\n",
    "f=open('./abnormal_train.csv')\n",
    "a=csv.reader(f)\n",
    "for i in a:\n",
    "    print(i)\n"
   ]
  }
 ],
 "metadata": {
  "kernelspec": {
   "display_name": "pytorch_cpu",
   "language": "python",
   "name": "python3"
  },
  "language_info": {
   "codemirror_mode": {
    "name": "ipython",
    "version": 3
   },
   "file_extension": ".py",
   "mimetype": "text/x-python",
   "name": "python",
   "nbconvert_exporter": "python",
   "pygments_lexer": "ipython3",
   "version": "3.10.4"
  },
  "orig_nbformat": 4,
  "vscode": {
   "interpreter": {
    "hash": "b48caa7b6cf1d557c56bc26e6dcb2a1ffcb157185263bbb2775613e0df82cb29"
   }
  }
 },
 "nbformat": 4,
 "nbformat_minor": 2
}
