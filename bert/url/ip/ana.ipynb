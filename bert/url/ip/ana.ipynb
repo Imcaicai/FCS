{
 "cells": [
  {
   "cell_type": "code",
   "execution_count": 77,
   "metadata": {},
   "outputs": [
    {
     "data": {
      "text/html": [
       "<div>\n",
       "<style scoped>\n",
       "    .dataframe tbody tr th:only-of-type {\n",
       "        vertical-align: middle;\n",
       "    }\n",
       "\n",
       "    .dataframe tbody tr th {\n",
       "        vertical-align: top;\n",
       "    }\n",
       "\n",
       "    .dataframe thead th {\n",
       "        text-align: right;\n",
       "    }\n",
       "</style>\n",
       "<table border=\"1\" class=\"dataframe\">\n",
       "  <thead>\n",
       "    <tr style=\"text-align: right;\">\n",
       "      <th></th>\n",
       "      <th>Unnamed: 0</th>\n",
       "      <th>url</th>\n",
       "      <th>label</th>\n",
       "      <th>text</th>\n",
       "      <th>ip</th>\n",
       "      <th>country/region</th>\n",
       "      <th>x</th>\n",
       "      <th>y</th>\n",
       "    </tr>\n",
       "  </thead>\n",
       "  <tbody>\n",
       "    <tr>\n",
       "      <th>0</th>\n",
       "      <td>0</td>\n",
       "      <td>119.8.50.152</td>\n",
       "      <td>4</td>\n",
       "      <td>PPchat 首頁 隱私協議 PPchat 是一款註 重信息安全的即時 通訊應用。 您將體會...</td>\n",
       "      <td>119.8.50.152</td>\n",
       "      <td>1</td>\n",
       "      <td>22.290800</td>\n",
       "      <td>114.150101</td>\n",
       "    </tr>\n",
       "    <tr>\n",
       "      <th>1</th>\n",
       "      <td>1</td>\n",
       "      <td>47.242.74.228:5050</td>\n",
       "      <td>1</td>\n",
       "      <td>北斗星管理系统! 北斗星管理系统 登 入 Copyright ©2019-2029 kakL...</td>\n",
       "      <td>47.242.74.228</td>\n",
       "      <td>1</td>\n",
       "      <td>22.290800</td>\n",
       "      <td>114.150101</td>\n",
       "    </tr>\n",
       "    <tr>\n",
       "      <th>2</th>\n",
       "      <td>2</td>\n",
       "      <td>96.3.203.37</td>\n",
       "      <td>4</td>\n",
       "      <td>hello world!</td>\n",
       "      <td>96.3.203.37</td>\n",
       "      <td>0</td>\n",
       "      <td>47.897701</td>\n",
       "      <td>-97.039398</td>\n",
       "    </tr>\n",
       "    <tr>\n",
       "      <th>3</th>\n",
       "      <td>3</td>\n",
       "      <td>www.hpbisl.vip</td>\n",
       "      <td>4</td>\n",
       "      <td>停止服务公告 尊敬的客户： 感谢您一直以来对亚博体育的支持，因平台战略升级原因，亚博体育于2...</td>\n",
       "      <td>43.128.5.28</td>\n",
       "      <td>1</td>\n",
       "      <td>22.290800</td>\n",
       "      <td>114.150101</td>\n",
       "    </tr>\n",
       "    <tr>\n",
       "      <th>4</th>\n",
       "      <td>4</td>\n",
       "      <td>www.qyztsc.com:8072</td>\n",
       "      <td>4</td>\n",
       "      <td>用户登陆-惬意中天商城 欢迎登陆 邮箱/用户名/已验证手机 密码 自动登陆 登 陆 忘记密码...</td>\n",
       "      <td>8.136.96.226</td>\n",
       "      <td>2</td>\n",
       "      <td>30.299400</td>\n",
       "      <td>120.161201</td>\n",
       "    </tr>\n",
       "  </tbody>\n",
       "</table>\n",
       "</div>"
      ],
      "text/plain": [
       "   Unnamed: 0                  url  label  \\\n",
       "0           0         119.8.50.152      4   \n",
       "1           1   47.242.74.228:5050      1   \n",
       "2           2          96.3.203.37      4   \n",
       "3           3       www.hpbisl.vip      4   \n",
       "4           4  www.qyztsc.com:8072      4   \n",
       "\n",
       "                                                text             ip  \\\n",
       "0  PPchat 首頁 隱私協議 PPchat 是一款註 重信息安全的即時 通訊應用。 您將體會...   119.8.50.152   \n",
       "1  北斗星管理系统! 北斗星管理系统 登 入 Copyright ©2019-2029 kakL...  47.242.74.228   \n",
       "2                                       hello world!    96.3.203.37   \n",
       "3  停止服务公告 尊敬的客户： 感谢您一直以来对亚博体育的支持，因平台战略升级原因，亚博体育于2...    43.128.5.28   \n",
       "4  用户登陆-惬意中天商城 欢迎登陆 邮箱/用户名/已验证手机 密码 自动登陆 登 陆 忘记密码...   8.136.96.226   \n",
       "\n",
       "   country/region          x           y  \n",
       "0               1  22.290800  114.150101  \n",
       "1               1  22.290800  114.150101  \n",
       "2               0  47.897701  -97.039398  \n",
       "3               1  22.290800  114.150101  \n",
       "4               2  30.299400  120.161201  "
      ]
     },
     "execution_count": 77,
     "metadata": {},
     "output_type": "execute_result"
    }
   ],
   "source": [
    "import pandas as pd\n",
    "f=pd.read_csv('./ip_train.csv')\n",
    "f.head()"
   ]
  },
  {
   "cell_type": "code",
   "execution_count": 51,
   "metadata": {},
   "outputs": [
    {
     "data": {
      "text/plain": [
       "{'US': 0,\n",
       " 'HK': 1,\n",
       " 'CN': 2,\n",
       " 'SC': 3,\n",
       " 'SG': 4,\n",
       " 'ZA': 5,\n",
       " 'JP': 6,\n",
       " 'DE': 7,\n",
       " 'TW': 8,\n",
       " 'IE': 9,\n",
       " 'IN': 10,\n",
       " 'MU': 11,\n",
       " 'FR': 12,\n",
       " 'NL': 13,\n",
       " 'MY': 14,\n",
       " 'GB': 15,\n",
       " 'AU': 16,\n",
       " 'KR': 17,\n",
       " 'CZ': 18,\n",
       " 'CA': 19,\n",
       " 'NO': 20,\n",
       " 'PL': 21,\n",
       " 'BR': 22,\n",
       " 'BE': 23,\n",
       " 'PR': 24,\n",
       " 'MO': 25,\n",
       " 'LT': 26,\n",
       " 'ES': 27,\n",
       " 'TH': 28,\n",
       " 'FI': 29,\n",
       " 'IT': 30,\n",
       " 'RU': 31,\n",
       " 'VN': 32}"
      ]
     },
     "execution_count": 51,
     "metadata": {},
     "output_type": "execute_result"
    }
   ],
   "source": [
    "f['x'].value_counts()\n",
    "cr=f['country/region'].value_counts().keys()\n",
    "cr={str(c):i for i,c in enumerate(cr)}\n",
    "cr"
   ]
  },
  {
   "cell_type": "code",
   "execution_count": 70,
   "metadata": {},
   "outputs": [
    {
     "name": "stderr",
     "output_type": "stream",
     "text": [
      "/var/folders/xx/_tbm46kx44581jh_7wh67hl00000gp/T/ipykernel_55620/2560000098.py:2: DeprecationWarning: In a future version, `df.iloc[:, i] = newvals` will attempt to set the values inplace instead of always setting a new array. To retain the old behavior, use either `df[df.columns[i]] = newvals` or, if columns are non-unique, `df.isetitem(i, newvals)`\n",
      "  f.loc[:,'country/region']=num\n"
     ]
    }
   ],
   "source": [
    "num=[cr[i] for i in f.loc[:,'country/region']]\n",
    "f.loc[:,'country/region']=num\n",
    "f['country/region']\n",
    "f.to_csv('./ip_train.csv')"
   ]
  },
  {
   "cell_type": "code",
   "execution_count": 76,
   "metadata": {},
   "outputs": [
    {
     "name": "stderr",
     "output_type": "stream",
     "text": [
      "/var/folders/xx/_tbm46kx44581jh_7wh67hl00000gp/T/ipykernel_55620/1373478022.py:8: DeprecationWarning: In a future version, `df.iloc[:, i] = newvals` will attempt to set the values inplace instead of always setting a new array. To retain the old behavior, use either `df[df.columns[i]] = newvals` or, if columns are non-unique, `df.isetitem(i, newvals)`\n",
      "  f.loc[:,'country/region']=num\n"
     ]
    }
   ],
   "source": [
    "f=pd.read_csv('./ip_test.csv')\n",
    "cr['PK']=len(cr)\n",
    "cr['AR']=len(cr)\n",
    "cr['DK']=len(cr)\n",
    "cr['RO']=len(cr)\n",
    "cr['KH']=len(cr)\n",
    "num=[cr[i] for i in f.loc[:,'country/region']]\n",
    "f.loc[:,'country/region']=num\n",
    "f['country/region']\n",
    "f.to_csv('./ip_test.csv')"
   ]
  }
 ],
 "metadata": {
  "kernelspec": {
   "display_name": "pytorch_cpu",
   "language": "python",
   "name": "python3"
  },
  "language_info": {
   "codemirror_mode": {
    "name": "ipython",
    "version": 3
   },
   "file_extension": ".py",
   "mimetype": "text/x-python",
   "name": "python",
   "nbconvert_exporter": "python",
   "pygments_lexer": "ipython3",
   "version": "3.10.4"
  },
  "orig_nbformat": 4
 },
 "nbformat": 4,
 "nbformat_minor": 2
}
