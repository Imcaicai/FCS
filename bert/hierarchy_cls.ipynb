{
 "cells": [
  {
   "cell_type": "code",
   "execution_count": 17,
   "metadata": {},
   "outputs": [
    {
     "data": {
      "text/plain": [
       "0.8192926045016077"
      ]
     },
     "execution_count": 17,
     "metadata": {},
     "output_type": "execute_result"
    }
   ],
   "source": [
    "# analyze the confusion map\n",
    "total=1555\n",
    "p=1+538+2+206+171+1+44+37+187+87\n",
    "p/total"
   ]
  },
  {
   "cell_type": "code",
   "execution_count": 18,
   "metadata": {},
   "outputs": [
    {
     "data": {
      "text/plain": [
       "0.9260450160771704"
      ]
     },
     "execution_count": 18,
     "metadata": {},
     "output_type": "execute_result"
    }
   ],
   "source": [
    "p+=25+25+11+5+84+16\n",
    "p/total"
   ]
  },
  {
   "cell_type": "code",
   "execution_count": 19,
   "metadata": {},
   "outputs": [],
   "source": [
    "import sys\n",
    "sys.path.append('../url/code/tool/')\n",
    "from feature import get_feature"
   ]
  },
  {
   "cell_type": "code",
   "execution_count": 20,
   "metadata": {},
   "outputs": [],
   "source": [
    "get_feature('./url/pure_abnormal/pure_abnormal_train.csv','./url_feature_train.csv')\n",
    "get_feature('./url/pure_abnormal/pure_abnormal_test.csv','./url_feature_test.csv')"
   ]
  },
  {
   "cell_type": "code",
   "execution_count": 21,
   "metadata": {},
   "outputs": [],
   "source": [
    "import torch\n",
    "text_feature=torch.load('features/features.pt')\n",
    "text_feature=text_feature.numpy()"
   ]
  },
  {
   "cell_type": "code",
   "execution_count": 22,
   "metadata": {},
   "outputs": [],
   "source": [
    "import pandas as pd\n",
    "url_feature=pd.read_csv('url_feature_train.csv')\n",
    "len(url_feature)\n",
    "url_feature=url_feature.iloc[:,:7].to_numpy()"
   ]
  },
  {
   "cell_type": "code",
   "execution_count": 52,
   "metadata": {},
   "outputs": [
    {
     "data": {
      "text/plain": [
       "(6140, 775)"
      ]
     },
     "execution_count": 52,
     "metadata": {},
     "output_type": "execute_result"
    }
   ],
   "source": [
    "# feature concat\n",
    "import numpy as np\n",
    "features=np.concatenate([text_feature,url_feature],axis=-1)\n",
    "features.shape"
   ]
  },
  {
   "attachments": {},
   "cell_type": "markdown",
   "metadata": {},
   "source": [
    "## MLP Classification"
   ]
  },
  {
   "cell_type": "code",
   "execution_count": 24,
   "metadata": {},
   "outputs": [],
   "source": [
    "labels_test=pd.read_csv('./features/features_labels_test.csv')\n",
    "labels_test=labels_test['label']\n",
    "\n",
    "text_features=torch.load('./features/features_test.pt')\n",
    "url_features=pd.read_csv('./url_feature_test.csv')\n",
    "url_features=url_features.iloc[:,:7].to_numpy()\n",
    "url_features=torch.tensor(url_features)\n",
    "features_test=torch.concat([text_features,url_features],dim=-1)"
   ]
  },
  {
   "cell_type": "code",
   "execution_count": 25,
   "metadata": {},
   "outputs": [],
   "source": [
    "from torch.utils.data import DataLoader\n",
    "def eval_on_test(net,features,labels):\n",
    "    net.eval()\n",
    "    length=len(labels)\n",
    "    labels=DataLoader(labels,batch_size=64)\n",
    "    features=DataLoader(features,batch_size=64)\n",
    "    sum=0\n",
    "    for feature,label in zip(features,labels):\n",
    "        output=net(feature)\n",
    "        predict=torch.argmax(output,dim=-1)\n",
    "        sum+=(predict==label).sum()\n",
    "    print(f\"accuracy on test :{sum}/{length}={sum/length}\")\n"
   ]
  },
  {
   "cell_type": "code",
   "execution_count": 51,
   "metadata": {},
   "outputs": [],
   "source": [
    "label_data=pd.read_csv('./features/features_labels.csv')\n",
    "text_features=torch.load('features/features.pt')\n",
    "url_features=pd.read_csv('url_feature_train.csv')\n",
    "url_features=url_features.iloc[:,:7].to_numpy()\n",
    "url_features=torch.tensor(url_features)\n",
    "features_data=torch.concat([text_features,url_features],dim=-1)"
   ]
  },
  {
   "cell_type": "code",
   "execution_count": 27,
   "metadata": {},
   "outputs": [],
   "source": [
    "def train(lr,batch_size,epoches,features_data,labels_data,test_features,test_labels,over_write=False):\n",
    "    # load data\n",
    "    labels=DataLoader(labels_data,batch_size=batch_size)\n",
    "    features=DataLoader(features_data,batch_size=batch_size)\n",
    "    # features_data=text_features\n",
    "    print(features_data.shape)\n",
    "    # net and solver\n",
    "    from mlp import mlp\n",
    "    import os\n",
    "    net=mlp(in_features=features_data.shape[-1])\n",
    "    if os.path.exists('./classifier_model/mlp.pkl') and not over_write:\n",
    "        state_dict=torch.load('./classifier_model/mlp.pkl')\n",
    "        net.load_state_dict(state_dict=state_dict)\n",
    "    criterion=torch.nn.CrossEntropyLoss()\n",
    "    optimizer=torch.optim.Adam(net.parameters(),lr=lr)\n",
    "    # train\n",
    "    loss_list=[]\n",
    "    for e in range(epoches):\n",
    "        epoch_loss=[]\n",
    "        for label,feature in zip(labels,features):\n",
    "            net.train()\n",
    "            output=net(feature)\n",
    "            loss=criterion(output,label)\n",
    "            optimizer.zero_grad()\n",
    "            loss.backward()\n",
    "            optimizer.step()\n",
    "            epoch_loss.append(loss.item())\n",
    "        eval_on_test(net,features=test_features,labels=test_labels)\n",
    "        mean_loss=np.array(epoch_loss).mean()\n",
    "        loss_list.append(mean_loss)\n",
    "        print(f'epoch {e+1} loss: {mean_loss}')\n",
    "    loss_log=pd.DataFrame(loss_list,columns=['loss'])\n",
    "    if os.path.exists('./log/loss.csv') and not over_write:\n",
    "        f=pd.read_csv('./log/loss.csv')\n",
    "        loss_log=pd.concat([f,loss_log],axis=0)\n",
    "    loss_log.to_csv('./log/loss.csv',index=None)\n",
    "    torch.save(net.state_dict(),'./classifier_model/mlp.pkl')\n"
   ]
  },
  {
   "attachments": {},
   "cell_type": "markdown",
   "metadata": {},
   "source": [
    "就像下面的实验结果一样，综合利用text和url特征直接多分类，对于提高正确率没有什么用"
   ]
  },
  {
   "cell_type": "code",
   "execution_count": 28,
   "metadata": {},
   "outputs": [
    {
     "ename": "TypeError",
     "evalue": "train() missing 4 required positional arguments: 'features_data', 'labels_data', 'test_features', and 'test_labels'",
     "output_type": "error",
     "traceback": [
      "\u001b[0;31m---------------------------------------------------------------------------\u001b[0m",
      "\u001b[0;31mTypeError\u001b[0m                                 Traceback (most recent call last)",
      "\u001b[0;32m/var/folders/xx/_tbm46kx44581jh_7wh67hl00000gp/T/ipykernel_40308/550062162.py\u001b[0m in \u001b[0;36m<module>\u001b[0;34m\u001b[0m\n\u001b[0;32m----> 1\u001b[0;31m \u001b[0mtrain\u001b[0m\u001b[0;34m(\u001b[0m\u001b[0mbatch_size\u001b[0m\u001b[0;34m=\u001b[0m\u001b[0;36m32\u001b[0m\u001b[0;34m,\u001b[0m\u001b[0mlr\u001b[0m\u001b[0;34m=\u001b[0m\u001b[0;36m1e-6\u001b[0m\u001b[0;34m,\u001b[0m\u001b[0mepoches\u001b[0m\u001b[0;34m=\u001b[0m\u001b[0;36m5\u001b[0m\u001b[0;34m,\u001b[0m\u001b[0mover_write\u001b[0m\u001b[0;34m=\u001b[0m\u001b[0;32mFalse\u001b[0m\u001b[0;34m)\u001b[0m\u001b[0;34m\u001b[0m\u001b[0;34m\u001b[0m\u001b[0m\n\u001b[0m",
      "\u001b[0;31mTypeError\u001b[0m: train() missing 4 required positional arguments: 'features_data', 'labels_data', 'test_features', and 'test_labels'"
     ]
    }
   ],
   "source": [
    "train(batch_size=32,lr=1e-6,epoches=5,over_write=False)"
   ]
  },
  {
   "attachments": {},
   "cell_type": "markdown",
   "metadata": {},
   "source": [
    "### 按层次进行分类\n",
    "2、4、6、8先视作一组，再对组内进行多分类。"
   ]
  },
  {
   "cell_type": "code",
   "execution_count": 29,
   "metadata": {},
   "outputs": [
    {
     "data": {
      "text/plain": [
       "label\n",
       "2        2406\n",
       "6        1099\n",
       "4         886\n",
       "8         291\n",
       "dtype: int64"
      ]
     },
     "execution_count": 29,
     "metadata": {},
     "output_type": "execute_result"
    }
   ],
   "source": [
    "label=pd.read_csv('./features/features_labels.csv')\n",
    "test_label=pd.read_csv('./features/features_labels_test.csv')\n",
    "idx1=(label['label']==2)|(label['label']==4)|(label['label']==6)|(label['label']==8)\n",
    "idx2=(test_label['label']==2)|(test_label['label']==4)|(test_label['label']==6)|(test_label['label']==8)\n",
    "label[idx1].value_counts()"
   ]
  },
  {
   "cell_type": "code",
   "execution_count": 31,
   "metadata": {},
   "outputs": [
    {
     "name": "stdout",
     "output_type": "stream",
     "text": [
      "torch.float32\n",
      "torch.int64\n",
      "torch.int64\n",
      "torch.float32\n"
     ]
    }
   ],
   "source": [
    "sub_features=torch.tensor(features[idx1],dtype=torch.float32)\n",
    "print(sub_features.dtype)\n",
    "t=label[idx1]['label']\n",
    "sub_labels=torch.tensor(t.to_numpy())\n",
    "print(sub_labels.dtype)\n",
    "sub_test_labels=torch.tensor(labels_test[idx2].to_numpy())\n",
    "print(sub_test_labels.dtype)\n",
    "sub_test_features=features_test[idx2]\n",
    "print(sub_test_features.dtype)"
   ]
  },
  {
   "cell_type": "code",
   "execution_count": 32,
   "metadata": {},
   "outputs": [
    {
     "name": "stdout",
     "output_type": "stream",
     "text": [
      "torch.Size([4682, 775])\n",
      "accuracy on test :969/1175=0.8246808648109436\n",
      "epoch 1 loss: 0.22864239344842174\n",
      "accuracy on test :969/1175=0.8246808648109436\n",
      "epoch 2 loss: 0.2298972017708279\n",
      "accuracy on test :969/1175=0.8246808648109436\n",
      "epoch 3 loss: 0.2330140878959578\n",
      "accuracy on test :969/1175=0.8246808648109436\n",
      "epoch 4 loss: 0.22920936221877733\n",
      "accuracy on test :969/1175=0.8246808648109436\n",
      "epoch 5 loss: 0.23102513130526153\n"
     ]
    }
   ],
   "source": [
    "train(batch_size=32,lr=1e-6,features_data=sub_features,labels_data=sub_labels,test_features=sub_test_features,test_labels=sub_test_labels, epoches=5,over_write=False)"
   ]
  },
  {
   "cell_type": "code",
   "execution_count": 62,
   "metadata": {},
   "outputs": [],
   "source": [
    "import matplotlib.pyplot as plt\n",
    "def draw_confusion_matrix(label,pred):\n",
    "    # plt.clf()\n",
    "    import seaborn as sns\n",
    "    from sklearn.metrics import confusion_matrix\n",
    "    c=confusion_matrix(label, pred)\n",
    "    labels=list(set(label))\n",
    "    # labels.sort()\n",
    "    sns.heatmap(data=c,annot=True,fmt='g',xticklabels=labels,yticklabels=labels)\n",
    "    plt.show()\n",
    "    # plt.savefig('./confusion_matrix.png',dpi=720)"
   ]
  },
  {
   "cell_type": "code",
   "execution_count": 34,
   "metadata": {},
   "outputs": [
    {
     "data": {
      "text/plain": [
       "torch.Size([1175])"
      ]
     },
     "execution_count": 34,
     "metadata": {},
     "output_type": "execute_result"
    }
   ],
   "source": [
    "from mlp import mlp\n",
    "net=mlp(in_features=775)\n",
    "st=torch.load('./classifier_model/mlp.pkl')\n",
    "net.load_state_dict(st)\n",
    "output=net(sub_test_features)\n",
    "predict=torch.argmax(output,dim=-1)\n",
    "# draw_confusion_matrix(predict,sub_test_labels)\n",
    "predict.shape\n",
    "sub_test_labels.shape"
   ]
  },
  {
   "cell_type": "code",
   "execution_count": 35,
   "metadata": {},
   "outputs": [
    {
     "data": {
      "text/plain": [
       "label\n",
       "2        607\n",
       "4        258\n",
       "6        247\n",
       "8         63\n",
       "dtype: int64"
      ]
     },
     "execution_count": 35,
     "metadata": {},
     "output_type": "execute_result"
    }
   ],
   "source": [
    "a=pd.DataFrame(predict,columns=['label'])\n",
    "a.value_counts()"
   ]
  },
  {
   "cell_type": "code",
   "execution_count": 36,
   "metadata": {},
   "outputs": [
    {
     "data": {
      "text/plain": [
       "label\n",
       "2        594\n",
       "6        274\n",
       "4        234\n",
       "8         73\n",
       "dtype: int64"
      ]
     },
     "execution_count": 36,
     "metadata": {},
     "output_type": "execute_result"
    }
   ],
   "source": [
    "b=pd.DataFrame(sub_test_labels,columns=['label'])\n",
    "b.value_counts()"
   ]
  },
  {
   "cell_type": "code",
   "execution_count": 63,
   "metadata": {},
   "outputs": [
    {
     "data": {
      "image/png": "[encoded data removed]",
      "text/plain": [
       "<Figure size 640x480 with 2 Axes>"
      ]
     },
     "metadata": {},
     "output_type": "display_data"
    }
   ],
   "source": [
    "a=list(predict.detach().numpy())\n",
    "b=list(sub_test_labels.detach().numpy())\n",
    "draw_confusion_matrix(a,b)"
   ]
  },
  {
   "attachments": {},
   "cell_type": "markdown",
   "metadata": {},
   "source": [
    "### 逻辑回归"
   ]
  },
  {
   "cell_type": "code",
   "execution_count": 37,
   "metadata": {},
   "outputs": [],
   "source": [
    "from sklearn.linear_model import LogisticRegression\n",
    "LR=LogisticRegression(max_iter=2000)"
   ]
  },
  {
   "cell_type": "code",
   "execution_count": 38,
   "metadata": {},
   "outputs": [],
   "source": [
    "wlb=pd.read_csv('./features/features_labels.csv')\n",
    "wtlb=pd.read_csv('./features/features_labels_test.csv')\n",
    "\n",
    "idx=(wlb['label']==2)|(wlb['label']==6)|(wlb['label']==4)|(wlb['label']==8)\n",
    "i26=(wlb['label']==2)|(wlb['label']==6)\n",
    "i48=(wlb['label']==4)|(wlb['label']==8)\n",
    "tidx=(wtlb['label']==2)|(wtlb['label']==6)|(wtlb['label']==4)|(wtlb['label']==8)\n",
    "ti26=(wtlb['label']==2)|(wtlb['label']==6)\n",
    "ti48=(wtlb['label']==4)|(wtlb['label']==8)\n",
    "lb26=wlb[i26].copy()\n",
    "lb48=wlb[i48].copy()\n",
    "lb=wlb[idx].copy()\n",
    "tlb26=wtlb[ti26].copy()\n",
    "tlb48=wtlb[ti48].copy()\n",
    "tlb=wtlb[tidx].copy()"
   ]
  },
  {
   "cell_type": "code",
   "execution_count": 39,
   "metadata": {},
   "outputs": [],
   "source": [
    "lb['label'].value_counts()\n",
    "lidx1=(lb['label']==4)|(lb['label']==8)\n",
    "lidx2=(lb['label']==2)|(lb['label']==6)\n",
    "lb[lidx1]=4\n",
    "lb[lidx2]=2\n",
    "ridx1=(tlb['label']==4)|(tlb['label']==8)\n",
    "ridx2=(tlb['label']==2)|(tlb['label']==6)\n",
    "tlb[ridx1]=4\n",
    "tlb[ridx2]=2"
   ]
  },
  {
   "cell_type": "code",
   "execution_count": 40,
   "metadata": {},
   "outputs": [
    {
     "name": "stderr",
     "output_type": "stream",
     "text": [
      "/Users/YZY/opt/anaconda3/envs/pytorch_cpu/lib/python3.10/site-packages/sklearn/utils/validation.py:1143: DataConversionWarning: A column-vector y was passed when a 1d array was expected. Please change the shape of y to (n_samples, ), for example using ravel().\n",
      "  y = column_or_1d(y, warn=True)\n"
     ]
    },
    {
     "data": {
      "text/html": [
       "<style>#sk-container-id-1 {color: black;background-color: white;}#sk-container-id-1 pre{padding: 0;}#sk-container-id-1 div.sk-toggleable {background-color: white;}#sk-container-id-1 label.sk-toggleable__label {cursor: pointer;display: block;width: 100%;margin-bottom: 0;padding: 0.3em;box-sizing: border-box;text-align: center;}#sk-container-id-1 label.sk-toggleable__label-arrow:before {content: \"▸\";float: left;margin-right: 0.25em;color: #696969;}#sk-container-id-1 label.sk-toggleable__label-arrow:hover:before {color: black;}#sk-container-id-1 div.sk-estimator:hover label.sk-toggleable__label-arrow:before {color: black;}#sk-container-id-1 div.sk-toggleable__content {max-height: 0;max-width: 0;overflow: hidden;text-align: left;background-color: #f0f8ff;}#sk-container-id-1 div.sk-toggleable__content pre {margin: 0.2em;color: black;border-radius: 0.25em;background-color: #f0f8ff;}#sk-container-id-1 input.sk-toggleable__control:checked~div.sk-toggleable__content {max-height: 200px;max-width: 100%;overflow: auto;}#sk-container-id-1 input.sk-toggleable__control:checked~label.sk-toggleable__label-arrow:before {content: \"▾\";}#sk-container-id-1 div.sk-estimator input.sk-toggleable__control:checked~label.sk-toggleable__label {background-color: #d4ebff;}#sk-container-id-1 div.sk-label input.sk-toggleable__control:checked~label.sk-toggleable__label {background-color: #d4ebff;}#sk-container-id-1 input.sk-hidden--visually {border: 0;clip: rect(1px 1px 1px 1px);clip: rect(1px, 1px, 1px, 1px);height: 1px;margin: -1px;overflow: hidden;padding: 0;position: absolute;width: 1px;}#sk-container-id-1 div.sk-estimator {font-family: monospace;background-color: #f0f8ff;border: 1px dotted black;border-radius: 0.25em;box-sizing: border-box;margin-bottom: 0.5em;}#sk-container-id-1 div.sk-estimator:hover {background-color: #d4ebff;}#sk-container-id-1 div.sk-parallel-item::after {content: \"\";width: 100%;border-bottom: 1px solid gray;flex-grow: 1;}#sk-container-id-1 div.sk-label:hover label.sk-toggleable__label {background-color: #d4ebff;}#sk-container-id-1 div.sk-serial::before {content: \"\";position: absolute;border-left: 1px solid gray;box-sizing: border-box;top: 0;bottom: 0;left: 50%;z-index: 0;}#sk-container-id-1 div.sk-serial {display: flex;flex-direction: column;align-items: center;background-color: white;padding-right: 0.2em;padding-left: 0.2em;position: relative;}#sk-container-id-1 div.sk-item {position: relative;z-index: 1;}#sk-container-id-1 div.sk-parallel {display: flex;align-items: stretch;justify-content: center;background-color: white;position: relative;}#sk-container-id-1 div.sk-item::before, #sk-container-id-1 div.sk-parallel-item::before {content: \"\";position: absolute;border-left: 1px solid gray;box-sizing: border-box;top: 0;bottom: 0;left: 50%;z-index: -1;}#sk-container-id-1 div.sk-parallel-item {display: flex;flex-direction: column;z-index: 1;position: relative;background-color: white;}#sk-container-id-1 div.sk-parallel-item:first-child::after {align-self: flex-end;width: 50%;}#sk-container-id-1 div.sk-parallel-item:last-child::after {align-self: flex-start;width: 50%;}#sk-container-id-1 div.sk-parallel-item:only-child::after {width: 0;}#sk-container-id-1 div.sk-dashed-wrapped {border: 1px dashed gray;margin: 0 0.4em 0.5em 0.4em;box-sizing: border-box;padding-bottom: 0.4em;background-color: white;}#sk-container-id-1 div.sk-label label {font-family: monospace;font-weight: bold;display: inline-block;line-height: 1.2em;}#sk-container-id-1 div.sk-label-container {text-align: center;}#sk-container-id-1 div.sk-container {/* jupyter's `normalize.less` sets `[hidden] { display: none; }` but bootstrap.min.css set `[hidden] { display: none !important; }` so we also need the `!important` here to be able to override the default hidden behavior on the sphinx rendered scikit-learn.org. See: https://github.com/scikit-learn/scikit-learn/issues/21755 */display: inline-block !important;position: relative;}#sk-container-id-1 div.sk-text-repr-fallback {display: none;}</style><div id=\"sk-container-id-1\" class=\"sk-top-container\"><div class=\"sk-text-repr-fallback\"><pre>LogisticRegression(max_iter=2000)</pre><b>In a Jupyter environment, please rerun this cell to show the HTML representation or trust the notebook. <br />On GitHub, the HTML representation is unable to render, please try loading this page with nbviewer.org.</b></div><div class=\"sk-container\" hidden><div class=\"sk-item\"><div class=\"sk-estimator sk-toggleable\"><input class=\"sk-toggleable__control sk-hidden--visually\" id=\"sk-estimator-id-1\" type=\"checkbox\" checked><label for=\"sk-estimator-id-1\" class=\"sk-toggleable__label sk-toggleable__label-arrow\">LogisticRegression</label><div class=\"sk-toggleable__content\"><pre>LogisticRegression(max_iter=2000)</pre></div></div></div></div></div>"
      ],
      "text/plain": [
       "LogisticRegression(max_iter=2000)"
      ]
     },
     "execution_count": 40,
     "metadata": {},
     "output_type": "execute_result"
    }
   ],
   "source": [
    "feature=features[idx]\n",
    "LR.fit(feature,lb)"
   ]
  },
  {
   "cell_type": "code",
   "execution_count": 41,
   "metadata": {},
   "outputs": [
    {
     "data": {
      "text/plain": [
       "0.9438297872340425"
      ]
     },
     "execution_count": 41,
     "metadata": {},
     "output_type": "execute_result"
    }
   ],
   "source": [
    "LR.score(features_test[tidx],tlb)"
   ]
  },
  {
   "cell_type": "code",
   "execution_count": 54,
   "metadata": {},
   "outputs": [
    {
     "name": "stderr",
     "output_type": "stream",
     "text": [
      "/Users/YZY/opt/anaconda3/envs/pytorch_cpu/lib/python3.10/site-packages/sklearn/utils/validation.py:1143: DataConversionWarning: A column-vector y was passed when a 1d array was expected. Please change the shape of y to (n_samples, ), for example using ravel().\n",
      "  y = column_or_1d(y, warn=True)\n"
     ]
    },
    {
     "data": {
      "text/plain": [
       "0.8513824884792627"
      ]
     },
     "execution_count": 54,
     "metadata": {},
     "output_type": "execute_result"
    }
   ],
   "source": [
    "lr26=LogisticRegression(max_iter=3000)\n",
    "lr26.fit(features[i26],lb26)\n",
    "lr26.score(features_test[ti26],tlb26)"
   ]
  },
  {
   "cell_type": "code",
   "execution_count": 55,
   "metadata": {},
   "outputs": [
    {
     "name": "stderr",
     "output_type": "stream",
     "text": [
      "/Users/YZY/opt/anaconda3/envs/pytorch_cpu/lib/python3.10/site-packages/sklearn/utils/validation.py:1143: DataConversionWarning: A column-vector y was passed when a 1d array was expected. Please change the shape of y to (n_samples, ), for example using ravel().\n",
      "  y = column_or_1d(y, warn=True)\n"
     ]
    },
    {
     "data": {
      "text/plain": [
       "0.9022801302931596"
      ]
     },
     "execution_count": 55,
     "metadata": {},
     "output_type": "execute_result"
    }
   ],
   "source": [
    "lr48=LogisticRegression(max_iter=3000)\n",
    "lr48.fit(features[i48],lb48)\n",
    "lr48.score(features_test[ti48],tlb48)"
   ]
  },
  {
   "cell_type": "code",
   "execution_count": 56,
   "metadata": {},
   "outputs": [],
   "source": [
    "div24=LR.predict(features_test[tidx])\n",
    "g2=div24==2\n",
    "g4=div24==4"
   ]
  },
  {
   "cell_type": "code",
   "execution_count": 57,
   "metadata": {},
   "outputs": [],
   "source": [
    "div26=lr26.predict(features_test[tidx][g2])\n",
    "div48=lr48.predict(features_test[tidx][g4])\n",
    "div24[g2]=div26\n",
    "div24[g4]=div48"
   ]
  },
  {
   "cell_type": "code",
   "execution_count": 66,
   "metadata": {},
   "outputs": [
    {
     "data": {
      "image/png": "[encoded data removed]",
      "text/plain": [
       "<Figure size 640x480 with 2 Axes>"
      ]
     },
     "metadata": {},
     "output_type": "display_data"
    }
   ],
   "source": [
    "draw_confusion_matrix(div24,tlb)"
   ]
  },
  {
   "cell_type": "code",
   "execution_count": null,
   "metadata": {},
   "outputs": [
    {
     "ename": "NameError",
     "evalue": "name 'lr26' is not defined",
     "output_type": "error",
     "traceback": [
      "\u001b[0;31m---------------------------------------------------------------------------\u001b[0m",
      "\u001b[0;31mNameError\u001b[0m                                 Traceback (most recent call last)",
      "\u001b[0;32m/var/folders/xx/_tbm46kx44581jh_7wh67hl00000gp/T/ipykernel_40308/2025549643.py\u001b[0m in \u001b[0;36m<module>\u001b[0;34m\u001b[0m\n\u001b[1;32m      1\u001b[0m \u001b[0;32mimport\u001b[0m \u001b[0mpickle\u001b[0m\u001b[0;34m\u001b[0m\u001b[0;34m\u001b[0m\u001b[0m\n\u001b[0;32m----> 2\u001b[0;31m \u001b[0mpickle\u001b[0m\u001b[0;34m.\u001b[0m\u001b[0mdump\u001b[0m\u001b[0;34m(\u001b[0m\u001b[0mlr26\u001b[0m\u001b[0;34m,\u001b[0m\u001b[0;34m'./lr26.pkl'\u001b[0m\u001b[0;34m)\u001b[0m\u001b[0;34m\u001b[0m\u001b[0;34m\u001b[0m\u001b[0m\n\u001b[0m",
      "\u001b[0;31mNameError\u001b[0m: name 'lr26' is not defined"
     ]
    }
   ],
   "source": [
    "import pickle\n",
    "pickle.dump(lr26,'./lr26.pkl')"
   ]
  }
 ],
 "metadata": {
  "kernelspec": {
   "display_name": "pytorch_cpu",
   "language": "python",
   "name": "python3"
  },
  "language_info": {
   "codemirror_mode": {
    "name": "ipython",
    "version": 3
   },
   "file_extension": ".py",
   "mimetype": "text/x-python",
   "name": "python",
   "nbconvert_exporter": "python",
   "pygments_lexer": "ipython3",
   "version": "3.10.4"
  },
  "orig_nbformat": 4
 },
 "nbformat": 4,
 "nbformat_minor": 2
}
