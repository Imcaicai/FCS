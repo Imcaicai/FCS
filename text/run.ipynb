{
 "cells": [
  {
   "cell_type": "code",
   "execution_count": 1,
   "id": "3e246018-5760-4e1b-b10e-646caa5c3b38",
   "metadata": {},
   "outputs": [],
   "source": [
    "\n",
    "import zipfile\n",
    "import os\n",
    "files = zipfile.ZipFile('bert.zip','r')\n",
    "files.extractall(os.getcwd())"
   ]
  },
  {
   "cell_type": "code",
   "execution_count": 1,
   "id": "ca21b9ef-9f57-4bac-8c15-e7a9065b508e",
   "metadata": {},
   "outputs": [
    {
     "name": "stdout",
     "output_type": "stream",
     "text": [
      "/root/bert\n"
     ]
    }
   ],
   "source": [
    "%cd bert"
   ]
  },
  {
   "cell_type": "code",
   "execution_count": null,
   "id": "e2f838b8-51c1-4145-8431-c68151960101",
   "metadata": {},
   "outputs": [
    {
     "name": "stderr",
     "output_type": "stream",
     "text": [
      "03/03/2023 19:09:58 - WARNING - __main__ -   Process rank: -1, device: cuda, n_gpu: 1, distributed training: False, 16-bits training: False\n",
      "Some weights of the model checkpoint at ./chinese_wwm_pytorch were not used when initializing BertForSequenceClassification: ['cls.predictions.transform.dense.weight', 'cls.predictions.transform.dense.bias', 'cls.predictions.transform.LayerNorm.weight', 'cls.seq_relationship.weight', 'cls.seq_relationship.bias', 'cls.predictions.bias', 'cls.predictions.decoder.weight', 'cls.predictions.transform.LayerNorm.bias']\n",
      "- This IS expected if you are initializing BertForSequenceClassification from the checkpoint of a model trained on another task or with another architecture (e.g. initializing a BertForSequenceClassification model from a BertForPreTraining model).\n",
      "- This IS NOT expected if you are initializing BertForSequenceClassification from the checkpoint of a model that you expect to be exactly identical (initializing a BertForSequenceClassification model from a BertForSequenceClassification model).\n",
      "Some weights of BertForSequenceClassification were not initialized from the model checkpoint at ./chinese_wwm_pytorch and are newly initialized: ['classifier.bias', 'classifier.weight']\n",
      "You should probably TRAIN this model on a down-stream task to be able to use it for predictions and inference.\n",
      "03/03/2023 19:10:00 - INFO - __main__ -   Training/evaluation parameters Namespace(data_dir='./url', model_type='bert', model_name_or_path='./chinese_wwm_pytorch', task_name='url_classification', output_dir='./outs', config_name='', tokenizer_name='', cache_dir='', max_seq_length=128, do_train=True, do_eval=True, evaluate_during_training=True, do_lower_case=False, per_gpu_train_batch_size=8, per_gpu_eval_batch_size=16, gradient_accumulation_steps=1, learning_rate=2e-05, weight_decay=0.0, adam_epsilon=1e-08, max_grad_norm=1.0, num_train_epochs=1.0, max_steps=-1, warmup_steps=0, logging_steps=100, save_steps=1000, eval_all_checkpoints=True, no_cuda=False, overwrite_output_dir=True, overwrite_cache=False, seed=42, fp16=False, fp16_opt_level='O1', local_rank=-1, server_ip='', server_port='', n_gpu=1, device=device(type='cuda'), output_mode='classification')\n",
      "03/03/2023 19:10:01 - INFO - __main__ -   Loading features from cached file ./url/cached_train_bert_128_url_classification\n",
      "03/03/2023 19:10:02 - INFO - __main__ -   ***** Running training *****\n",
      "03/03/2023 19:10:02 - INFO - __main__ -     Num examples = 12062\n",
      "03/03/2023 19:10:02 - INFO - __main__ -     Num Epochs = 1\n",
      "03/03/2023 19:10:02 - INFO - __main__ -     Instantaneous batch size per GPU = 8\n",
      "03/03/2023 19:10:02 - INFO - __main__ -     Total train batch size (w. parallel, distributed & accumulation) = 8\n",
      "03/03/2023 19:10:02 - INFO - __main__ -     Gradient Accumulation steps = 1\n",
      "03/03/2023 19:10:02 - INFO - __main__ -     Total optimization steps = 1508\n"
     ]
    },
    {
     "data": {
      "application/vnd.jupyter.widget-view+json": {
       "model_id": "8fd92bd5d4c242e697958c5c58c2f923",
       "version_major": 2,
       "version_minor": 0
      },
      "text/plain": [
       "Epoch:   0%|          | 0/1 [00:00<?, ?it/s]"
      ]
     },
     "metadata": {},
     "output_type": "display_data"
    },
    {
     "data": {
      "application/vnd.jupyter.widget-view+json": {
       "model_id": "1cbbe1e4d0a1498489af74e7c8fb0f3f",
       "version_major": 2,
       "version_minor": 0
      },
      "text/plain": [
       "Iteration:   0%|          | 0/1508 [00:00<?, ?it/s]"
      ]
     },
     "metadata": {},
     "output_type": "display_data"
    },
    {
     "name": "stderr",
     "output_type": "stream",
     "text": [
      "03/03/2023 19:10:13 - INFO - __main__ -   Creating features from dataset file at ./url\n",
      "/root/.local/lib/python3.9/site-packages/transformers/data/processors/glue.py:66: FutureWarning: This function will be removed from the library soon, preprocessing should be handled with the 🤗 Datasets library. You can have a look at this example script for pointers: https://github.com/huggingface/transformers/blob/main/examples/pytorch/text-classification/run_glue.py\n",
      "  warnings.warn(DEPRECATION_WARNING.format(\"function\"), FutureWarning)\n",
      "03/03/2023 19:10:38 - INFO - __main__ -   Saving features into cached file ./url/cached_dev_bert_128_url_classification\n",
      "03/03/2023 19:10:39 - INFO - __main__ -   ***** Running evaluation  *****\n",
      "03/03/2023 19:10:39 - INFO - __main__ -     Num examples = 3016\n",
      "03/03/2023 19:10:39 - INFO - __main__ -     Batch size = 16\n"
     ]
    },
    {
     "data": {
      "application/vnd.jupyter.widget-view+json": {
       "model_id": "155b6bb2352e4fdd968943930dc1dd87",
       "version_major": 2,
       "version_minor": 0
      },
      "text/plain": [
       "Evaluating:   0%|          | 0/189 [00:00<?, ?it/s]"
      ]
     },
     "metadata": {},
     "output_type": "display_data"
    },
    {
     "name": "stderr",
     "output_type": "stream",
     "text": [
      "03/03/2023 19:10:46 - INFO - __main__ -   ***** Eval results  *****\n",
      "03/03/2023 19:10:46 - INFO - __main__ -     acc = 0.7834880636604774\n",
      "03/03/2023 19:10:46 - INFO - __main__ -     acc_and_f1 = 0.7778031967426158\n",
      "03/03/2023 19:10:46 - INFO - __main__ -     f1 = 0.7721183298247541\n",
      "/opt/conda/envs/pytorch1.8/lib/python3.9/site-packages/torch/optim/lr_scheduler.py:247: UserWarning: To get the last learning rate computed by the scheduler, please use `get_last_lr()`.\n",
      "  warnings.warn(\"To get the last learning rate computed by the scheduler, \"\n",
      "03/03/2023 19:10:56 - INFO - __main__ -   Loading features from cached file ./url/cached_dev_bert_128_url_classification\n",
      "03/03/2023 19:10:56 - INFO - __main__ -   ***** Running evaluation  *****\n",
      "03/03/2023 19:10:56 - INFO - __main__ -     Num examples = 3016\n",
      "03/03/2023 19:10:56 - INFO - __main__ -     Batch size = 16\n"
     ]
    },
    {
     "data": {
      "application/vnd.jupyter.widget-view+json": {
       "model_id": "d61af9d8024340b7bd024c961b01dfc1",
       "version_major": 2,
       "version_minor": 0
      },
      "text/plain": [
       "Evaluating:   0%|          | 0/189 [00:00<?, ?it/s]"
      ]
     },
     "metadata": {},
     "output_type": "display_data"
    },
    {
     "name": "stderr",
     "output_type": "stream",
     "text": [
      "03/03/2023 19:11:04 - INFO - __main__ -   ***** Eval results  *****\n",
      "03/03/2023 19:11:04 - INFO - __main__ -     acc = 0.8023872679045093\n",
      "03/03/2023 19:11:04 - INFO - __main__ -     acc_and_f1 = 0.7938673968752625\n",
      "03/03/2023 19:11:04 - INFO - __main__ -     f1 = 0.7853475258460157\n",
      "/opt/conda/envs/pytorch1.8/lib/python3.9/site-packages/torch/optim/lr_scheduler.py:247: UserWarning: To get the last learning rate computed by the scheduler, please use `get_last_lr()`.\n",
      "  warnings.warn(\"To get the last learning rate computed by the scheduler, \"\n",
      "03/03/2023 19:11:14 - INFO - __main__ -   Loading features from cached file ./url/cached_dev_bert_128_url_classification\n",
      "03/03/2023 19:11:14 - INFO - __main__ -   ***** Running evaluation  *****\n",
      "03/03/2023 19:11:14 - INFO - __main__ -     Num examples = 3016\n",
      "03/03/2023 19:11:14 - INFO - __main__ -     Batch size = 16\n"
     ]
    },
    {
     "data": {
      "application/vnd.jupyter.widget-view+json": {
       "model_id": "63803e8258dd45ee825901aa2a70e745",
       "version_major": 2,
       "version_minor": 0
      },
      "text/plain": [
       "Evaluating:   0%|          | 0/189 [00:00<?, ?it/s]"
      ]
     },
     "metadata": {},
     "output_type": "display_data"
    },
    {
     "name": "stderr",
     "output_type": "stream",
     "text": [
      "03/03/2023 19:11:22 - INFO - __main__ -   ***** Eval results  *****\n",
      "03/03/2023 19:11:22 - INFO - __main__ -     acc = 0.8146551724137931\n",
      "03/03/2023 19:11:22 - INFO - __main__ -     acc_and_f1 = 0.8062301870546333\n",
      "03/03/2023 19:11:22 - INFO - __main__ -     f1 = 0.7978052016954735\n",
      "/opt/conda/envs/pytorch1.8/lib/python3.9/site-packages/torch/optim/lr_scheduler.py:247: UserWarning: To get the last learning rate computed by the scheduler, please use `get_last_lr()`.\n",
      "  warnings.warn(\"To get the last learning rate computed by the scheduler, \"\n",
      "03/03/2023 19:11:33 - INFO - __main__ -   Loading features from cached file ./url/cached_dev_bert_128_url_classification\n",
      "03/03/2023 19:11:33 - INFO - __main__ -   ***** Running evaluation  *****\n",
      "03/03/2023 19:11:33 - INFO - __main__ -     Num examples = 3016\n",
      "03/03/2023 19:11:33 - INFO - __main__ -     Batch size = 16\n"
     ]
    },
    {
     "data": {
      "application/vnd.jupyter.widget-view+json": {
       "model_id": "51d60759be8845d29596a18286ba59c5",
       "version_major": 2,
       "version_minor": 0
      },
      "text/plain": [
       "Evaluating:   0%|          | 0/189 [00:00<?, ?it/s]"
      ]
     },
     "metadata": {},
     "output_type": "display_data"
    },
    {
     "name": "stderr",
     "output_type": "stream",
     "text": [
      "03/03/2023 19:11:40 - INFO - __main__ -   ***** Eval results  *****\n",
      "03/03/2023 19:11:40 - INFO - __main__ -     acc = 0.8159814323607427\n",
      "03/03/2023 19:11:40 - INFO - __main__ -     acc_and_f1 = 0.8158785882714525\n",
      "03/03/2023 19:11:40 - INFO - __main__ -     f1 = 0.8157757441821623\n",
      "/opt/conda/envs/pytorch1.8/lib/python3.9/site-packages/torch/optim/lr_scheduler.py:247: UserWarning: To get the last learning rate computed by the scheduler, please use `get_last_lr()`.\n",
      "  warnings.warn(\"To get the last learning rate computed by the scheduler, \"\n",
      "03/03/2023 19:11:51 - INFO - __main__ -   Loading features from cached file ./url/cached_dev_bert_128_url_classification\n",
      "03/03/2023 19:11:51 - INFO - __main__ -   ***** Running evaluation  *****\n",
      "03/03/2023 19:11:51 - INFO - __main__ -     Num examples = 3016\n",
      "03/03/2023 19:11:51 - INFO - __main__ -     Batch size = 16\n"
     ]
    },
    {
     "data": {
      "application/vnd.jupyter.widget-view+json": {
       "model_id": "06c3ce8695eb44b1a338bc679e069683",
       "version_major": 2,
       "version_minor": 0
      },
      "text/plain": [
       "Evaluating:   0%|          | 0/189 [00:00<?, ?it/s]"
      ]
     },
     "metadata": {},
     "output_type": "display_data"
    },
    {
     "name": "stderr",
     "output_type": "stream",
     "text": [
      "03/03/2023 19:11:58 - INFO - __main__ -   ***** Eval results  *****\n",
      "03/03/2023 19:11:58 - INFO - __main__ -     acc = 0.8408488063660478\n",
      "03/03/2023 19:11:58 - INFO - __main__ -     acc_and_f1 = 0.8375487003302045\n",
      "03/03/2023 19:11:58 - INFO - __main__ -     f1 = 0.8342485942943612\n",
      "/opt/conda/envs/pytorch1.8/lib/python3.9/site-packages/torch/optim/lr_scheduler.py:247: UserWarning: To get the last learning rate computed by the scheduler, please use `get_last_lr()`.\n",
      "  warnings.warn(\"To get the last learning rate computed by the scheduler, \"\n",
      "03/03/2023 19:12:10 - INFO - __main__ -   Loading features from cached file ./url/cached_dev_bert_128_url_classification\n",
      "03/03/2023 19:12:12 - INFO - __main__ -   ***** Running evaluation  *****\n",
      "03/03/2023 19:12:12 - INFO - __main__ -     Num examples = 3016\n",
      "03/03/2023 19:12:12 - INFO - __main__ -     Batch size = 16\n"
     ]
    },
    {
     "data": {
      "application/vnd.jupyter.widget-view+json": {
       "model_id": "d8fdd81e3e9e427d8c08af983bad42ba",
       "version_major": 2,
       "version_minor": 0
      },
      "text/plain": [
       "Evaluating:   0%|          | 0/189 [00:00<?, ?it/s]"
      ]
     },
     "metadata": {},
     "output_type": "display_data"
    },
    {
     "name": "stderr",
     "output_type": "stream",
     "text": [
      "03/03/2023 19:12:19 - INFO - __main__ -   ***** Eval results  *****\n",
      "03/03/2023 19:12:19 - INFO - __main__ -     acc = 0.8269230769230769\n",
      "03/03/2023 19:12:19 - INFO - __main__ -     acc_and_f1 = 0.8236305698182597\n",
      "03/03/2023 19:12:19 - INFO - __main__ -     f1 = 0.8203380627134425\n",
      "/opt/conda/envs/pytorch1.8/lib/python3.9/site-packages/torch/optim/lr_scheduler.py:247: UserWarning: To get the last learning rate computed by the scheduler, please use `get_last_lr()`.\n",
      "  warnings.warn(\"To get the last learning rate computed by the scheduler, \"\n",
      "03/03/2023 19:12:29 - INFO - __main__ -   Loading features from cached file ./url/cached_dev_bert_128_url_classification\n",
      "03/03/2023 19:12:29 - INFO - __main__ -   ***** Running evaluation  *****\n",
      "03/03/2023 19:12:29 - INFO - __main__ -     Num examples = 3016\n",
      "03/03/2023 19:12:29 - INFO - __main__ -     Batch size = 16\n"
     ]
    },
    {
     "data": {
      "application/vnd.jupyter.widget-view+json": {
       "model_id": "149912402df74d41929d6eb602fd5585",
       "version_major": 2,
       "version_minor": 0
      },
      "text/plain": [
       "Evaluating:   0%|          | 0/189 [00:00<?, ?it/s]"
      ]
     },
     "metadata": {},
     "output_type": "display_data"
    },
    {
     "name": "stderr",
     "output_type": "stream",
     "text": [
      "03/03/2023 19:12:36 - INFO - __main__ -   ***** Eval results  *****\n",
      "03/03/2023 19:12:36 - INFO - __main__ -     acc = 0.8295755968169761\n",
      "03/03/2023 19:12:36 - INFO - __main__ -     acc_and_f1 = 0.8205382998622603\n",
      "03/03/2023 19:12:36 - INFO - __main__ -     f1 = 0.8115010029075447\n",
      "/opt/conda/envs/pytorch1.8/lib/python3.9/site-packages/torch/optim/lr_scheduler.py:247: UserWarning: To get the last learning rate computed by the scheduler, please use `get_last_lr()`.\n",
      "  warnings.warn(\"To get the last learning rate computed by the scheduler, \"\n",
      "03/03/2023 19:12:46 - INFO - __main__ -   Loading features from cached file ./url/cached_dev_bert_128_url_classification\n",
      "03/03/2023 19:12:46 - INFO - __main__ -   ***** Running evaluation  *****\n",
      "03/03/2023 19:12:46 - INFO - __main__ -     Num examples = 3016\n",
      "03/03/2023 19:12:46 - INFO - __main__ -     Batch size = 16\n"
     ]
    },
    {
     "data": {
      "application/vnd.jupyter.widget-view+json": {
       "model_id": "0135631244da4cae866de0a5ebe9f415",
       "version_major": 2,
       "version_minor": 0
      },
      "text/plain": [
       "Evaluating:   0%|          | 0/189 [00:00<?, ?it/s]"
      ]
     },
     "metadata": {},
     "output_type": "display_data"
    },
    {
     "name": "stderr",
     "output_type": "stream",
     "text": [
      "03/03/2023 19:12:55 - INFO - __main__ -   ***** Eval results  *****\n",
      "03/03/2023 19:12:55 - INFO - __main__ -     acc = 0.8484748010610079\n",
      "03/03/2023 19:12:55 - INFO - __main__ -     acc_and_f1 = 0.8432824628882465\n",
      "03/03/2023 19:12:55 - INFO - __main__ -     f1 = 0.8380901247154852\n",
      "/opt/conda/envs/pytorch1.8/lib/python3.9/site-packages/torch/optim/lr_scheduler.py:247: UserWarning: To get the last learning rate computed by the scheduler, please use `get_last_lr()`.\n",
      "  warnings.warn(\"To get the last learning rate computed by the scheduler, \"\n",
      "03/03/2023 19:13:06 - INFO - __main__ -   Loading features from cached file ./url/cached_dev_bert_128_url_classification\n",
      "03/03/2023 19:13:06 - INFO - __main__ -   ***** Running evaluation  *****\n",
      "03/03/2023 19:13:06 - INFO - __main__ -     Num examples = 3016\n",
      "03/03/2023 19:13:06 - INFO - __main__ -     Batch size = 16\n"
     ]
    },
    {
     "data": {
      "application/vnd.jupyter.widget-view+json": {
       "model_id": "cbcb10844ff845f4956cc3304203752f",
       "version_major": 2,
       "version_minor": 0
      },
      "text/plain": [
       "Evaluating:   0%|          | 0/189 [00:00<?, ?it/s]"
      ]
     },
     "metadata": {},
     "output_type": "display_data"
    },
    {
     "name": "stderr",
     "output_type": "stream",
     "text": [
      "03/03/2023 19:13:13 - INFO - __main__ -   ***** Eval results  *****\n",
      "03/03/2023 19:13:13 - INFO - __main__ -     acc = 0.851790450928382\n",
      "03/03/2023 19:13:13 - INFO - __main__ -     acc_and_f1 = 0.8478457150266966\n",
      "03/03/2023 19:13:13 - INFO - __main__ -     f1 = 0.8439009791250112\n",
      "/opt/conda/envs/pytorch1.8/lib/python3.9/site-packages/torch/optim/lr_scheduler.py:247: UserWarning: To get the last learning rate computed by the scheduler, please use `get_last_lr()`.\n",
      "  warnings.warn(\"To get the last learning rate computed by the scheduler, \"\n",
      "03/03/2023 19:13:23 - INFO - __main__ -   Loading features from cached file ./url/cached_dev_bert_128_url_classification\n",
      "03/03/2023 19:13:23 - INFO - __main__ -   ***** Running evaluation  *****\n",
      "03/03/2023 19:13:23 - INFO - __main__ -     Num examples = 3016\n",
      "03/03/2023 19:13:23 - INFO - __main__ -     Batch size = 16\n"
     ]
    },
    {
     "data": {
      "application/vnd.jupyter.widget-view+json": {
       "model_id": "d38d1d031b704c8b95c6331a03cb7a1c",
       "version_major": 2,
       "version_minor": 0
      },
      "text/plain": [
       "Evaluating:   0%|          | 0/189 [00:00<?, ?it/s]"
      ]
     },
     "metadata": {},
     "output_type": "display_data"
    },
    {
     "name": "stderr",
     "output_type": "stream",
     "text": [
      "03/03/2023 19:13:31 - INFO - __main__ -   ***** Eval results  *****\n",
      "03/03/2023 19:13:31 - INFO - __main__ -     acc = 0.8511273209549072\n",
      "03/03/2023 19:13:31 - INFO - __main__ -     acc_and_f1 = 0.8472670480040418\n",
      "03/03/2023 19:13:31 - INFO - __main__ -     f1 = 0.8434067750531766\n",
      "/opt/conda/envs/pytorch1.8/lib/python3.9/site-packages/torch/optim/lr_scheduler.py:247: UserWarning: To get the last learning rate computed by the scheduler, please use `get_last_lr()`.\n",
      "  warnings.warn(\"To get the last learning rate computed by the scheduler, \"\n",
      "03/03/2023 19:13:35 - INFO - __main__ -   Saving model checkpoint to ./outs/checkpoint-1000\n",
      "03/03/2023 19:13:45 - INFO - __main__ -   Loading features from cached file ./url/cached_dev_bert_128_url_classification\n",
      "03/03/2023 19:13:45 - INFO - __main__ -   ***** Running evaluation  *****\n",
      "03/03/2023 19:13:45 - INFO - __main__ -     Num examples = 3016\n",
      "03/03/2023 19:13:45 - INFO - __main__ -     Batch size = 16\n"
     ]
    },
    {
     "data": {
      "application/vnd.jupyter.widget-view+json": {
       "model_id": "3456b040c93d4c3387be66ca36bea0bb",
       "version_major": 2,
       "version_minor": 0
      },
      "text/plain": [
       "Evaluating:   0%|          | 0/189 [00:00<?, ?it/s]"
      ]
     },
     "metadata": {},
     "output_type": "display_data"
    },
    {
     "name": "stderr",
     "output_type": "stream",
     "text": [
      "03/03/2023 19:13:53 - INFO - __main__ -   ***** Eval results  *****\n",
      "03/03/2023 19:13:53 - INFO - __main__ -     acc = 0.8640583554376657\n",
      "03/03/2023 19:13:53 - INFO - __main__ -     acc_and_f1 = 0.8620098721662292\n",
      "03/03/2023 19:13:53 - INFO - __main__ -     f1 = 0.8599613888947926\n",
      "/opt/conda/envs/pytorch1.8/lib/python3.9/site-packages/torch/optim/lr_scheduler.py:247: UserWarning: To get the last learning rate computed by the scheduler, please use `get_last_lr()`.\n",
      "  warnings.warn(\"To get the last learning rate computed by the scheduler, \"\n",
      "03/03/2023 19:14:02 - INFO - __main__ -   Loading features from cached file ./url/cached_dev_bert_128_url_classification\n",
      "03/03/2023 19:14:03 - INFO - __main__ -   ***** Running evaluation  *****\n",
      "03/03/2023 19:14:03 - INFO - __main__ -     Num examples = 3016\n",
      "03/03/2023 19:14:03 - INFO - __main__ -     Batch size = 16\n"
     ]
    },
    {
     "data": {
      "application/vnd.jupyter.widget-view+json": {
       "model_id": "d66dd3b522e14b948adf759771a49ff1",
       "version_major": 2,
       "version_minor": 0
      },
      "text/plain": [
       "Evaluating:   0%|          | 0/189 [00:00<?, ?it/s]"
      ]
     },
     "metadata": {},
     "output_type": "display_data"
    },
    {
     "name": "stderr",
     "output_type": "stream",
     "text": [
      "03/03/2023 19:14:12 - INFO - __main__ -   ***** Eval results  *****\n",
      "03/03/2023 19:14:12 - INFO - __main__ -     acc = 0.8547745358090185\n",
      "03/03/2023 19:14:12 - INFO - __main__ -     acc_and_f1 = 0.8526216206005366\n",
      "03/03/2023 19:14:12 - INFO - __main__ -     f1 = 0.8504687053920547\n",
      "/opt/conda/envs/pytorch1.8/lib/python3.9/site-packages/torch/optim/lr_scheduler.py:247: UserWarning: To get the last learning rate computed by the scheduler, please use `get_last_lr()`.\n",
      "  warnings.warn(\"To get the last learning rate computed by the scheduler, \"\n",
      "03/03/2023 19:14:22 - INFO - __main__ -   Loading features from cached file ./url/cached_dev_bert_128_url_classification\n",
      "03/03/2023 19:14:23 - INFO - __main__ -   ***** Running evaluation  *****\n",
      "03/03/2023 19:14:23 - INFO - __main__ -     Num examples = 3016\n",
      "03/03/2023 19:14:23 - INFO - __main__ -     Batch size = 16\n"
     ]
    },
    {
     "data": {
      "application/vnd.jupyter.widget-view+json": {
       "model_id": "f5b0d41ce98241c6b54b24a0a2b72b44",
       "version_major": 2,
       "version_minor": 0
      },
      "text/plain": [
       "Evaluating:   0%|          | 0/189 [00:00<?, ?it/s]"
      ]
     },
     "metadata": {},
     "output_type": "display_data"
    },
    {
     "name": "stderr",
     "output_type": "stream",
     "text": [
      "03/03/2023 19:14:30 - INFO - __main__ -   ***** Eval results  *****\n",
      "03/03/2023 19:14:30 - INFO - __main__ -     acc = 0.8577586206896551\n",
      "03/03/2023 19:14:30 - INFO - __main__ -     acc_and_f1 = 0.8545147701822756\n",
      "03/03/2023 19:14:30 - INFO - __main__ -     f1 = 0.8512709196748961\n",
      "/opt/conda/envs/pytorch1.8/lib/python3.9/site-packages/torch/optim/lr_scheduler.py:247: UserWarning: To get the last learning rate computed by the scheduler, please use `get_last_lr()`.\n",
      "  warnings.warn(\"To get the last learning rate computed by the scheduler, \"\n",
      "03/03/2023 19:14:40 - INFO - __main__ -   Loading features from cached file ./url/cached_dev_bert_128_url_classification\n",
      "03/03/2023 19:14:40 - INFO - __main__ -   ***** Running evaluation  *****\n",
      "03/03/2023 19:14:40 - INFO - __main__ -     Num examples = 3016\n",
      "03/03/2023 19:14:40 - INFO - __main__ -     Batch size = 16\n"
     ]
    },
    {
     "data": {
      "application/vnd.jupyter.widget-view+json": {
       "model_id": "a0ba64417abd4f15bc3aac25c708375a",
       "version_major": 2,
       "version_minor": 0
      },
      "text/plain": [
       "Evaluating:   0%|          | 0/189 [00:00<?, ?it/s]"
      ]
     },
     "metadata": {},
     "output_type": "display_data"
    },
    {
     "name": "stderr",
     "output_type": "stream",
     "text": [
      "03/03/2023 19:14:47 - INFO - __main__ -   ***** Eval results  *****\n",
      "03/03/2023 19:14:47 - INFO - __main__ -     acc = 0.8610742705570292\n",
      "03/03/2023 19:14:47 - INFO - __main__ -     acc_and_f1 = 0.8577586027724426\n",
      "03/03/2023 19:14:47 - INFO - __main__ -     f1 = 0.8544429349878561\n",
      "/opt/conda/envs/pytorch1.8/lib/python3.9/site-packages/torch/optim/lr_scheduler.py:247: UserWarning: To get the last learning rate computed by the scheduler, please use `get_last_lr()`.\n",
      "  warnings.warn(\"To get the last learning rate computed by the scheduler, \"\n",
      "03/03/2023 19:14:57 - INFO - __main__ -   Loading features from cached file ./url/cached_dev_bert_128_url_classification\n",
      "03/03/2023 19:14:57 - INFO - __main__ -   ***** Running evaluation  *****\n",
      "03/03/2023 19:14:57 - INFO - __main__ -     Num examples = 3016\n",
      "03/03/2023 19:14:57 - INFO - __main__ -     Batch size = 16\n"
     ]
    },
    {
     "data": {
      "application/vnd.jupyter.widget-view+json": {
       "model_id": "c378c7dae12b4e04a06f3bae232d857c",
       "version_major": 2,
       "version_minor": 0
      },
      "text/plain": [
       "Evaluating:   0%|          | 0/189 [00:00<?, ?it/s]"
      ]
     },
     "metadata": {},
     "output_type": "display_data"
    },
    {
     "name": "stderr",
     "output_type": "stream",
     "text": [
      "03/03/2023 19:15:06 - INFO - __main__ -   ***** Eval results  *****\n",
      "03/03/2023 19:15:06 - INFO - __main__ -     acc = 0.8607427055702918\n",
      "03/03/2023 19:15:06 - INFO - __main__ -     acc_and_f1 = 0.8570033780801\n",
      "03/03/2023 19:15:06 - INFO - __main__ -     f1 = 0.8532640505899082\n",
      "/opt/conda/envs/pytorch1.8/lib/python3.9/site-packages/torch/optim/lr_scheduler.py:247: UserWarning: To get the last learning rate computed by the scheduler, please use `get_last_lr()`.\n",
      "  warnings.warn(\"To get the last learning rate computed by the scheduler, \"\n",
      "03/03/2023 19:15:07 - INFO - __main__ -    global_step = 1508, average loss = 0.565138470354942\n",
      "03/03/2023 19:15:07 - INFO - __main__ -   Saving model checkpoint to ./outs\n",
      "03/03/2023 19:15:12 - INFO - __main__ -   Evaluate the following checkpoints: ['./outs/checkpoint-1000', './outs']\n",
      "03/03/2023 19:15:15 - INFO - __main__ -   Loading features from cached file ./url/cached_dev_bert_128_url_classification\n"
     ]
    }
   ],
   "source": [
    "%run ./bert_cnews.py"
   ]
  },
  {
   "cell_type": "code",
   "execution_count": 7,
   "id": "f62f97f1-5d71-422a-b1d3-5dc3868289b9",
   "metadata": {},
   "outputs": [
    {
     "name": "stdout",
     "output_type": "stream",
     "text": [
      "Looking in indexes: https://pypi.tuna.tsinghua.edu.cn/simple/, https://mirrors.aliyun.com/pypi/simple/\n",
      "Collecting ipywidgets\n",
      "  Downloading https://mirrors.aliyun.com/pypi/packages/f3/fc/bd076538811d63babf8ceea0ff3d8d024171569a47f5dba7757c5fd0462c/ipywidgets-8.0.4-py3-none-any.whl (137 kB)\n",
      "\u001b[K     |████████████████████████████████| 137 kB 1.2 MB/s eta 0:00:01\n",
      "\u001b[?25hRequirement already satisfied: ipykernel>=4.5.1 in /opt/conda/envs/pytorch1.8/lib/python3.9/site-packages (from ipywidgets) (6.4.1)\n",
      "Requirement already satisfied: ipython>=6.1.0 in /opt/conda/envs/pytorch1.8/lib/python3.9/site-packages (from ipywidgets) (7.27.0)\n",
      "Collecting widgetsnbextension~=4.0\n",
      "  Downloading https://mirrors.aliyun.com/pypi/packages/c2/1a/73574f7194184c8670b804171d7f43f56c586e5f8142a41f7a53f0998b6b/widgetsnbextension-4.0.5-py3-none-any.whl (2.0 MB)\n",
      "\u001b[K     |████████████████████████████████| 2.0 MB 42 kB/s  eta 0:00:01\n",
      "\u001b[?25hCollecting jupyterlab-widgets~=3.0\n",
      "  Downloading https://mirrors.aliyun.com/pypi/packages/df/82/4576cbc07ebace8c7734fe08b2c2f9123b7ebecd29e932a3b839b6bee2cb/jupyterlab_widgets-3.0.5-py3-none-any.whl (384 kB)\n",
      "\u001b[K     |████████████████████████████████| 384 kB 1.2 MB/s eta 0:00:01\n",
      "\u001b[?25hRequirement already satisfied: traitlets>=4.3.1 in /opt/conda/envs/pytorch1.8/lib/python3.9/site-packages (from ipywidgets) (5.1.0)\n",
      "Requirement already satisfied: ipython-genutils in /opt/conda/envs/pytorch1.8/lib/python3.9/site-packages (from ipykernel>=4.5.1->ipywidgets) (0.2.0)\n",
      "Requirement already satisfied: matplotlib-inline<0.2.0,>=0.1.0 in /opt/conda/envs/pytorch1.8/lib/python3.9/site-packages (from ipykernel>=4.5.1->ipywidgets) (0.1.3)\n",
      "Requirement already satisfied: tornado<7.0,>=4.2 in /opt/conda/envs/pytorch1.8/lib/python3.9/site-packages (from ipykernel>=4.5.1->ipywidgets) (6.1)\n",
      "Requirement already satisfied: jupyter-client<8.0 in /opt/conda/envs/pytorch1.8/lib/python3.9/site-packages (from ipykernel>=4.5.1->ipywidgets) (7.0.3)\n",
      "Requirement already satisfied: debugpy<2.0,>=1.0.0 in /opt/conda/envs/pytorch1.8/lib/python3.9/site-packages (from ipykernel>=4.5.1->ipywidgets) (1.4.1)\n",
      "Requirement already satisfied: prompt-toolkit!=3.0.0,!=3.0.1,<3.1.0,>=2.0.0 in /opt/conda/envs/pytorch1.8/lib/python3.9/site-packages (from ipython>=6.1.0->ipywidgets) (3.0.20)\n",
      "Requirement already satisfied: setuptools>=18.5 in /opt/conda/envs/pytorch1.8/lib/python3.9/site-packages (from ipython>=6.1.0->ipywidgets) (58.0.4)\n",
      "Requirement already satisfied: jedi>=0.16 in /opt/conda/envs/pytorch1.8/lib/python3.9/site-packages (from ipython>=6.1.0->ipywidgets) (0.18.0)\n",
      "Requirement already satisfied: pickleshare in /opt/conda/envs/pytorch1.8/lib/python3.9/site-packages (from ipython>=6.1.0->ipywidgets) (0.7.5)\n",
      "Requirement already satisfied: decorator in /opt/conda/envs/pytorch1.8/lib/python3.9/site-packages (from ipython>=6.1.0->ipywidgets) (5.1.0)\n",
      "Requirement already satisfied: backcall in /opt/conda/envs/pytorch1.8/lib/python3.9/site-packages (from ipython>=6.1.0->ipywidgets) (0.2.0)\n",
      "Requirement already satisfied: pygments in /opt/conda/envs/pytorch1.8/lib/python3.9/site-packages (from ipython>=6.1.0->ipywidgets) (2.10.0)\n",
      "Requirement already satisfied: pexpect>4.3 in /opt/conda/envs/pytorch1.8/lib/python3.9/site-packages (from ipython>=6.1.0->ipywidgets) (4.8.0)\n",
      "Requirement already satisfied: parso<0.9.0,>=0.8.0 in /opt/conda/envs/pytorch1.8/lib/python3.9/site-packages (from jedi>=0.16->ipython>=6.1.0->ipywidgets) (0.8.2)\n",
      "Requirement already satisfied: python-dateutil>=2.1 in /opt/conda/envs/pytorch1.8/lib/python3.9/site-packages (from jupyter-client<8.0->ipykernel>=4.5.1->ipywidgets) (2.8.2)\n",
      "Requirement already satisfied: pyzmq>=13 in /opt/conda/envs/pytorch1.8/lib/python3.9/site-packages (from jupyter-client<8.0->ipykernel>=4.5.1->ipywidgets) (22.3.0)\n",
      "Requirement already satisfied: jupyter-core>=4.6.0 in /opt/conda/envs/pytorch1.8/lib/python3.9/site-packages (from jupyter-client<8.0->ipykernel>=4.5.1->ipywidgets) (4.8.1)\n",
      "Requirement already satisfied: nest-asyncio>=1.5 in /opt/conda/envs/pytorch1.8/lib/python3.9/site-packages (from jupyter-client<8.0->ipykernel>=4.5.1->ipywidgets) (1.5.1)\n",
      "Requirement already satisfied: entrypoints in /opt/conda/envs/pytorch1.8/lib/python3.9/site-packages (from jupyter-client<8.0->ipykernel>=4.5.1->ipywidgets) (0.3)\n",
      "Requirement already satisfied: ptyprocess>=0.5 in /opt/conda/envs/pytorch1.8/lib/python3.9/site-packages (from pexpect>4.3->ipython>=6.1.0->ipywidgets) (0.7.0)\n",
      "Requirement already satisfied: wcwidth in /opt/conda/envs/pytorch1.8/lib/python3.9/site-packages (from prompt-toolkit!=3.0.0,!=3.0.1,<3.1.0,>=2.0.0->ipython>=6.1.0->ipywidgets) (0.2.5)\n",
      "Requirement already satisfied: six>=1.5 in /opt/conda/envs/pytorch1.8/lib/python3.9/site-packages (from python-dateutil>=2.1->jupyter-client<8.0->ipykernel>=4.5.1->ipywidgets) (1.16.0)\n",
      "Installing collected packages: widgetsnbextension, jupyterlab-widgets, ipywidgets\n",
      "Successfully installed ipywidgets-8.0.4 jupyterlab-widgets-3.0.5 widgetsnbextension-4.0.5\n",
      "\u001b[33mWARNING: Running pip as the 'root' user can result in broken permissions and conflicting behaviour with the system package manager. It is recommended to use a virtual environment instead: https://pip.pypa.io/warnings/venv\u001b[0m\n",
      "Note: you may need to restart the kernel to use updated packages.\n"
     ]
    }
   ],
   "source": [
    "%pip install ipywidgets"
   ]
  },
  {
   "cell_type": "code",
   "execution_count": null,
   "id": "8c97fc1c-d370-4f61-aa67-cecc8f1c7c0c",
   "metadata": {},
   "outputs": [],
   "source": []
  }
 ],
 "metadata": {
  "kernelspec": {
   "display_name": "PyTorch 1.8",
   "language": "python",
   "name": "torch1.8"
  },
  "language_info": {
   "codemirror_mode": {
    "name": "ipython",
    "version": 3
   },
   "file_extension": ".py",
   "mimetype": "text/x-python",
   "name": "python",
   "nbconvert_exporter": "python",
   "pygments_lexer": "ipython3",
   "version": "3.9.7"
  }
 },
 "nbformat": 4,
 "nbformat_minor": 5
}
